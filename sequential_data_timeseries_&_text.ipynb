{
  "cells": [
    {
      "cell_type": "markdown",
      "metadata": {
        "id": "KT9ZKo3q-2-F"
      },
      "source": [
        "# Sequential data (timeseries + text)"
      ]
    },
    {
      "cell_type": "markdown",
      "metadata": {
        "id": "IJ2pbEi8HjiP"
      },
      "source": [
        "## **Part 1: Temperature forecasting using RNNs**\n",
        "\n",
        "Following closely along Chapter 10 of [the textbook](https://learning.oreilly.com/library/view/deep-learning-with/9781617296864),  Part 1 uses a temperature-forecasting task as a example of using DL to process and make predictions on sequential data.\n",
        "\n",
        "Dataset: recorded at [the weather station at the Max Planck Institute for Biogeochemistry in Jena, Germany](https://www.bgc-jena.mpg.de/wetter/), it consists of 14 different quantities (such as temperature, pressure, humidity, wind direction, and so on)  recorded every 10 minutes over several years. The original data goes back to 2003, but the subset of the data we’ll download is limited to 2009–2016."
      ]
    },
    {
      "cell_type": "markdown",
      "metadata": {
        "id": "vPc4CuJc--cX"
      },
      "source": [
        "**Useful sources and references for Part 1:**\n",
        "\n",
        "> Indented block\n",
        "\n",
        "\n",
        "\n",
        "https://colab.research.google.com/github/fchollet/deep-learning-with-python-notebooks/blob/master/chapter10_dl-for-timeseries.ipynb\n"
      ]
    },
    {
      "cell_type": "markdown",
      "metadata": {
        "id": "Gt7GMeCa_AvJ"
      },
      "source": [
        "### **Acquiring and inspecting the data**"
      ]
    },
    {
      "cell_type": "code",
      "execution_count": null,
      "metadata": {
        "colab": {
          "base_uri": "https://localhost:8080/"
        },
        "id": "Z_lwQzNMIba3",
        "outputId": "036c37fe-ebd9-42ac-cb57-fe618c8dea76"
      },
      "outputs": [
        {
          "name": "stdout",
          "output_type": "stream",
          "text": [
            "--2023-07-18 23:53:13--  https://s3.amazonaws.com/keras-datasets/jena_climate_2009_2016.csv.zip\n",
            "Resolving s3.amazonaws.com (s3.amazonaws.com)... 52.216.211.240, 52.217.135.8, 52.217.89.30, ...\n",
            "Connecting to s3.amazonaws.com (s3.amazonaws.com)|52.216.211.240|:443... connected.\n",
            "HTTP request sent, awaiting response... 200 OK\n",
            "Length: 13565642 (13M) [application/zip]\n",
            "Saving to: ‘jena_climate_2009_2016.csv.zip’\n",
            "\n",
            "jena_climate_2009_2 100%[===================>]  12.94M  19.2MB/s    in 0.7s    \n",
            "\n",
            "2023-07-18 23:53:14 (19.2 MB/s) - ‘jena_climate_2009_2016.csv.zip’ saved [13565642/13565642]\n",
            "\n",
            "Archive:  jena_climate_2009_2016.csv.zip\n",
            "  inflating: jena_climate_2009_2016.csv  \n",
            "  inflating: __MACOSX/._jena_climate_2009_2016.csv  \n"
          ]
        }
      ],
      "source": [
        "!wget https://s3.amazonaws.com/keras-datasets/jena_climate_2009_2016.csv.zip\n",
        "!unzip jena_climate_2009_2016.csv.zip"
      ]
    },
    {
      "cell_type": "markdown",
      "metadata": {
        "id": "3qW4ZeZlIiUm"
      },
      "source": [
        "**Inspecting the data**"
      ]
    },
    {
      "cell_type": "code",
      "execution_count": null,
      "metadata": {
        "colab": {
          "base_uri": "https://localhost:8080/"
        },
        "id": "2XEY7e4fIzEo",
        "outputId": "e96acc49-7065-44f2-fd34-93b5c4d18060"
      },
      "outputs": [
        {
          "name": "stdout",
          "output_type": "stream",
          "text": [
            "['\"Date Time\"', '\"p (mbar)\"', '\"T (degC)\"', '\"Tpot (K)\"', '\"Tdew (degC)\"', '\"rh (%)\"', '\"VPmax (mbar)\"', '\"VPact (mbar)\"', '\"VPdef (mbar)\"', '\"sh (g/kg)\"', '\"H2OC (mmol/mol)\"', '\"rho (g/m**3)\"', '\"wv (m/s)\"', '\"max. wv (m/s)\"', '\"wd (deg)\"']\n",
            "420451\n"
          ]
        }
      ],
      "source": [
        "import os\n",
        "fname = os.path.join(\"jena_climate_2009_2016.csv\")\n",
        "\n",
        "with open(fname) as f:\n",
        "    data = f.read()\n",
        "\n",
        "lines = data.split(\"\\n\")\n",
        "header = lines[0].split(\",\")\n",
        "lines = lines[1:]\n",
        "print(header)\n",
        "print(len(lines))"
      ]
    },
    {
      "cell_type": "markdown",
      "metadata": {
        "id": "hSKeHVhUI4HY"
      },
      "source": [
        "**Parsing the data**"
      ]
    },
    {
      "cell_type": "code",
      "execution_count": null,
      "metadata": {
        "id": "UzgjFI8yI3Lp"
      },
      "outputs": [],
      "source": [
        "import numpy as np\n",
        "temperature = np.zeros((len(lines),))\n",
        "raw_data = np.zeros((len(lines), len(header) - 1))\n",
        "for i, line in enumerate(lines):\n",
        "    values = [float(x) for x in line.split(\",\")[1:]]\n",
        "    temperature[i] = values[1]\n",
        "    raw_data[i, :] = values[:]"
      ]
    },
    {
      "cell_type": "markdown",
      "metadata": {
        "id": "O5Vaiqy_IUpo"
      },
      "source": [
        "**Plotting the temperature timeseries**"
      ]
    },
    {
      "cell_type": "code",
      "execution_count": null,
      "metadata": {
        "colab": {
          "base_uri": "https://localhost:8080/",
          "height": 451
        },
        "id": "yM0qx_iyIUpp",
        "outputId": "fd353797-222e-42cc-b2ba-4314c239ff59"
      },
      "outputs": [
        {
          "data": {
            "text/plain": [
              "[<matplotlib.lines.Line2D at 0x7ee340f89330>]"
            ]
          },
          "execution_count": 15,
          "metadata": {},
          "output_type": "execute_result"
        },
        {
          "data": {
            "image/png": "[encoded data removed]",
            "text/plain": [
              "<Figure size 640x480 with 1 Axes>"
            ]
          },
          "metadata": {},
          "output_type": "display_data"
        }
      ],
      "source": [
        "from matplotlib import pyplot as plt\n",
        "plt.plot(range(len(temperature)), temperature)"
      ]
    },
    {
      "cell_type": "markdown",
      "metadata": {
        "id": "HHLdVMlgIUpp"
      },
      "source": [
        "**Plotting the first 10 days of the temperature timeseries**"
      ]
    },
    {
      "cell_type": "code",
      "execution_count": null,
      "metadata": {
        "colab": {
          "base_uri": "https://localhost:8080/",
          "height": 447
        },
        "id": "6OOjyhM3IUpp",
        "outputId": "2fa28bb3-a4c4-4027-8745-5862d96dc25b"
      },
      "outputs": [
        {
          "data": {
            "text/plain": [
              "[<matplotlib.lines.Line2D at 0x7ee3b916a320>]"
            ]
          },
          "execution_count": 16,
          "metadata": {},
          "output_type": "execute_result"
        },
        {
          "data": {
            "image/png": "[encoded data removed]",
            "text/plain": [
              "<Figure size 640x480 with 1 Axes>"
            ]
          },
          "metadata": {},
          "output_type": "display_data"
        }
      ],
      "source": [
        "plt.plot(range(1440), temperature[:1440])"
      ]
    },
    {
      "cell_type": "markdown",
      "metadata": {
        "id": "aywlbPQmIUpq"
      },
      "source": [
        "**Computing the number of samples we'll use for each data split**"
      ]
    },
    {
      "cell_type": "code",
      "execution_count": null,
      "metadata": {
        "colab": {
          "base_uri": "https://localhost:8080/"
        },
        "id": "-0bshpxgIUpr",
        "outputId": "fde3c13b-5940-4149-f343-4eb4c5123c88"
      },
      "outputs": [
        {
          "name": "stdout",
          "output_type": "stream",
          "text": [
            "num_train_samples: 210225\n",
            "num_val_samples: 105112\n",
            "num_test_samples: 105114\n"
          ]
        }
      ],
      "source": [
        "num_train_samples = int(0.5 * len(raw_data))\n",
        "num_val_samples = int(0.25 * len(raw_data))\n",
        "num_test_samples = len(raw_data) - num_train_samples - num_val_samples\n",
        "print(\"num_train_samples:\", num_train_samples)\n",
        "print(\"num_val_samples:\", num_val_samples)\n",
        "print(\"num_test_samples:\", num_test_samples)"
      ]
    },
    {
      "cell_type": "markdown",
      "metadata": {
        "id": "9TfuVCN1IUpt"
      },
      "source": [
        "### **Preparing the data**"
      ]
    },
    {
      "cell_type": "markdown",
      "metadata": {
        "id": "Dxl-1ciCIUpt"
      },
      "source": [
        "**Normalizing the data**"
      ]
    },
    {
      "cell_type": "code",
      "execution_count": null,
      "metadata": {
        "id": "bKpqgtYNIUpt"
      },
      "outputs": [],
      "source": [
        "mean = raw_data[:num_train_samples].mean(axis=0)\n",
        "raw_data -= mean\n",
        "std = raw_data[:num_train_samples].std(axis=0)\n",
        "raw_data /= std"
      ]
    },
    {
      "cell_type": "code",
      "execution_count": null,
      "metadata": {
        "colab": {
          "base_uri": "https://localhost:8080/"
        },
        "id": "zQjrig3HIUpu",
        "outputId": "605c5a9e-eae8-452a-f1cd-4b0e9311f35c"
      },
      "outputs": [
        {
          "name": "stdout",
          "output_type": "stream",
          "text": [
            "[0, 1, 2] 3\n",
            "[1, 2, 3] 4\n",
            "[2, 3, 4] 5\n",
            "[3, 4, 5] 6\n",
            "[4, 5, 6] 7\n"
          ]
        }
      ],
      "source": [
        "import numpy as np\n",
        "from tensorflow import keras\n",
        "int_sequence = np.arange(10)\n",
        "dummy_dataset = keras.utils.timeseries_dataset_from_array(\n",
        "    data=int_sequence[:-3],\n",
        "    targets=int_sequence[3:],\n",
        "    sequence_length=3,\n",
        "    batch_size=2,\n",
        ")\n",
        "\n",
        "for inputs, targets in dummy_dataset:\n",
        "    for i in range(inputs.shape[0]):\n",
        "        print([int(x) for x in inputs[i]], int(targets[i]))"
      ]
    },
    {
      "cell_type": "markdown",
      "metadata": {
        "id": "7W8QRc78IUpu"
      },
      "source": [
        "**Instantiating datasets for training, validation, and testing**"
      ]
    },
    {
      "cell_type": "code",
      "execution_count": null,
      "metadata": {
        "id": "-azjOrpyIUpu"
      },
      "outputs": [],
      "source": [
        "sampling_rate = 6\n",
        "sequence_length = 120\n",
        "delay = sampling_rate * (sequence_length + 24 - 1)\n",
        "batch_size = 256\n",
        "\n",
        "train_dataset = keras.utils.timeseries_dataset_from_array(\n",
        "    raw_data[:-delay],\n",
        "    targets=temperature[delay:],\n",
        "    sampling_rate=sampling_rate,\n",
        "    sequence_length=sequence_length,\n",
        "    shuffle=True,\n",
        "    batch_size=batch_size,\n",
        "    start_index=0,\n",
        "    end_index=num_train_samples)\n",
        "\n",
        "val_dataset = keras.utils.timeseries_dataset_from_array(\n",
        "    raw_data[:-delay],\n",
        "    targets=temperature[delay:],\n",
        "    sampling_rate=sampling_rate,\n",
        "    sequence_length=sequence_length,\n",
        "    shuffle=True,\n",
        "    batch_size=batch_size,\n",
        "    start_index=num_train_samples,\n",
        "    end_index=num_train_samples + num_val_samples)\n",
        "\n",
        "test_dataset = keras.utils.timeseries_dataset_from_array(\n",
        "    raw_data[:-delay],\n",
        "    targets=temperature[delay:],\n",
        "    sampling_rate=sampling_rate,\n",
        "    sequence_length=sequence_length,\n",
        "    shuffle=True,\n",
        "    batch_size=batch_size,\n",
        "    start_index=num_train_samples + num_val_samples)"
      ]
    },
    {
      "cell_type": "markdown",
      "metadata": {
        "id": "VqB48hFtIUpv"
      },
      "source": [
        "**Inspecting the output of one of our datasets**"
      ]
    },
    {
      "cell_type": "code",
      "execution_count": null,
      "metadata": {
        "colab": {
          "base_uri": "https://localhost:8080/"
        },
        "id": "RkPtPfVdIUpw",
        "outputId": "68bfab96-cbe7-472f-ab70-28aeda32466e"
      },
      "outputs": [
        {
          "name": "stdout",
          "output_type": "stream",
          "text": [
            "samples shape: (256, 120, 14)\n",
            "targets shape: (256,)\n"
          ]
        }
      ],
      "source": [
        "for samples, targets in train_dataset:\n",
        "    print(\"samples shape:\", samples.shape)\n",
        "    print(\"targets shape:\", targets.shape)\n",
        "    break"
      ]
    },
    {
      "cell_type": "markdown",
      "metadata": {
        "id": "ko85MBf3_PLo"
      },
      "source": [
        "### **Building a baseline \"model\"**\n",
        "\n",
        "In this case we will try to predict the temperature by simply assuming that the temperature 24 hours from now will be equal to the temperature right now.\n",
        "\n",
        "We shall use the mean absolute error (MAE) as a metric of performance and consider this (rather silly) \"model\" as our baseline.\n"
      ]
    },
    {
      "cell_type": "markdown",
      "metadata": {
        "id": "R5bvOX9ZIUpw"
      },
      "source": [
        "**Computing the common-sense baseline MAE**"
      ]
    },
    {
      "cell_type": "code",
      "execution_count": null,
      "metadata": {
        "colab": {
          "base_uri": "https://localhost:8080/"
        },
        "id": "3J4emypcIUpx",
        "outputId": "d9ad107c-feb6-4bc5-ac34-e590e012a296"
      },
      "outputs": [
        {
          "name": "stdout",
          "output_type": "stream",
          "text": [
            "Validation MAE: 2.44\n",
            "Test MAE: 2.62\n"
          ]
        }
      ],
      "source": [
        "def evaluate_naive_method(dataset):\n",
        "    total_abs_err = 0.\n",
        "    samples_seen = 0\n",
        "    for samples, targets in dataset:\n",
        "        preds = samples[:, -1, 1] * std[1] + mean[1]\n",
        "        total_abs_err += np.sum(np.abs(preds - targets))\n",
        "        samples_seen += samples.shape[0]\n",
        "    return total_abs_err / samples_seen\n",
        "\n",
        "print(f\"Validation MAE: {evaluate_naive_method(val_dataset):.2f}\")\n",
        "print(f\"Test MAE: {evaluate_naive_method(test_dataset):.2f}\")"
      ]
    },
    {
      "cell_type": "markdown",
      "metadata": {
        "id": "oG1aHr4Y_Xej"
      },
      "source": [
        "### **Building our *real* first model**\n",
        "\n",
        "This is essentially the \"simple LSTM-based model\" from Listing 10.12 in the textbook."
      ]
    },
    {
      "cell_type": "code",
      "execution_count": null,
      "metadata": {
        "colab": {
          "base_uri": "https://localhost:8080/"
        },
        "id": "UCNOgENsIUpx",
        "outputId": "5bd8ce6d-c33d-4342-9137-23d908b5246e"
      },
      "outputs": [
        {
          "name": "stdout",
          "output_type": "stream",
          "text": [
            "Epoch 1/10\n",
            "819/819 [==============================] - 52s 54ms/step - loss: 47.8171 - mae: 5.0454 - val_loss: 13.9736 - val_mae: 2.8264\n",
            "Epoch 2/10\n",
            "819/819 [==============================] - 46s 56ms/step - loss: 11.1782 - mae: 2.5903 - val_loss: 10.1154 - val_mae: 2.4771\n",
            "Epoch 3/10\n",
            "819/819 [==============================] - 52s 63ms/step - loss: 9.8726 - mae: 2.4526 - val_loss: 9.5499 - val_mae: 2.4041\n",
            "Epoch 4/10\n",
            "819/819 [==============================] - 45s 55ms/step - loss: 9.4624 - mae: 2.3991 - val_loss: 9.6675 - val_mae: 2.4139\n",
            "Epoch 5/10\n",
            "819/819 [==============================] - 46s 55ms/step - loss: 9.1719 - mae: 2.3598 - val_loss: 9.7067 - val_mae: 2.4309\n",
            "Epoch 6/10\n",
            "819/819 [==============================] - 45s 55ms/step - loss: 8.9108 - mae: 2.3264 - val_loss: 9.6701 - val_mae: 2.4201\n",
            "Epoch 7/10\n",
            "819/819 [==============================] - 44s 54ms/step - loss: 8.6659 - mae: 2.2930 - val_loss: 10.0978 - val_mae: 2.4785\n",
            "Epoch 8/10\n",
            "819/819 [==============================] - 52s 63ms/step - loss: 8.4898 - mae: 2.2684 - val_loss: 9.6883 - val_mae: 2.4386\n",
            "Epoch 9/10\n",
            "819/819 [==============================] - 44s 53ms/step - loss: 8.3025 - mae: 2.2453 - val_loss: 9.7942 - val_mae: 2.4591\n",
            "Epoch 10/10\n",
            "819/819 [==============================] - 52s 63ms/step - loss: 8.1237 - mae: 2.2231 - val_loss: 10.1473 - val_mae: 2.5023\n",
            "405/405 [==============================] - 15s 35ms/step - loss: 10.7951 - mae: 2.5870\n",
            "Test MAE: 2.59\n"
          ]
        }
      ],
      "source": [
        "from tensorflow import keras\n",
        "from tensorflow.keras import layers\n",
        "\n",
        "inputs = keras.Input(shape=(sequence_length, raw_data.shape[-1]))\n",
        "x = layers.LSTM(16)(inputs)\n",
        "outputs = layers.Dense(1)(x)\n",
        "model = keras.Model(inputs, outputs)\n",
        "\n",
        "callbacks = [\n",
        "    keras.callbacks.ModelCheckpoint(\"jena_lstm.keras\",\n",
        "                                    save_best_only=True)\n",
        "]\n",
        "model.compile(optimizer=\"rmsprop\", loss=\"mse\", metrics=[\"mae\"])\n",
        "history = model.fit(train_dataset,\n",
        "                    epochs=10,\n",
        "                    validation_data=val_dataset,\n",
        "                    callbacks=callbacks)\n",
        "\n",
        "model = keras.models.load_model(\"jena_lstm.keras\")\n",
        "print(f\"Test MAE: {model.evaluate(test_dataset)[1]:.2f}\")"
      ]
    },
    {
      "cell_type": "code",
      "execution_count": null,
      "metadata": {
        "colab": {
          "base_uri": "https://localhost:8080/",
          "height": 452
        },
        "id": "F29usgYBN_ZZ",
        "outputId": "0ad507c4-3494-4bd0-a24c-5c4e61b5877b"
      },
      "outputs": [
        {
          "data": {
            "image/png": "[encoded data removed]",
            "text/plain": [
              "<Figure size 640x480 with 1 Axes>"
            ]
          },
          "metadata": {},
          "output_type": "display_data"
        }
      ],
      "source": [
        "import matplotlib.pyplot as plt\n",
        "loss = history.history[\"mae\"]\n",
        "val_loss = history.history[\"val_mae\"]\n",
        "epochs = range(1, len(loss) + 1)\n",
        "plt.figure()\n",
        "plt.plot(epochs, loss, \"bo\", label=\"Training MAE\")\n",
        "plt.plot(epochs, val_loss, \"b\", label=\"Validation MAE\")\n",
        "plt.title(\"Training and validation MAE\")\n",
        "plt.legend()\n",
        "plt.show()"
      ]
    },
    {
      "cell_type": "markdown",
      "metadata": {
        "id": "ISnJ_UrZqvWk"
      },
      "source": [
        "## **PART 1** </font>"
      ]
    },
    {
      "cell_type": "markdown",
      "metadata": {
        "id": "4coVfbOqq4bD"
      },
      "source": [
        "### **Part 1**\n",
        "\n",
        "**1.1 &emsp; Improve the solution for temperature forecast**\n",
        "\n",
        " &emsp; **Write code to produce an additional solution to the temperature forecasting problem that outperforms the one above, i.e., has a lower Test MAE.**\n",
        "<br>\n",
        "\n",
        " >  *You can use a (combination of) different architecture (e.g., bidirectional RNN, see Listing 10.24 in the textbook), dropout and/or other regularization strategies, hyperparameter optimizations, or any other acceptable \"trick\" in the deep learning world.*\n",
        "\n",
        "<br><br>\n",
        " **1.2 &emsp; Summary Table\n",
        " (Example, manually generated)**\n",
        "\n",
        "You can use the table below to show a summary of the experimental results. **Replace the Test MAE values and other contents with your own!**\n",
        "\n",
        "| Method | Test MAE | Remarks |\n",
        "| --- | --- | --- |\n",
        "| Baseline | 2.62 | Silly model: \"tomorrow will be like today\" |\n",
        "| Real first model (LSTM) | 2.54| Slightly better than baseline |\n",
        "| *Improved* model / variation of your choice | 2.12| Best overall, still shows signs of overfitting |\n",
        "\n",
        "\n"
      ]
    },
    {
      "cell_type": "markdown",
      "metadata": {
        "id": "mLI62O7VpAY3"
      },
      "source": [
        "#### **Part 1**"
      ]
    },
    {
      "cell_type": "markdown",
      "metadata": {
        "id": "WcEQUoxZpnG4"
      },
      "source": [
        "##### **1.1 Improve the solution for temperature forecast**\n",
        "\n",
        " Write code to produce an additional solution to the temperature forecasting problem that outperforms the one above, i.e., have a lower Test MAE."
      ]
    },
    {
      "cell_type": "markdown",
      "metadata": {
        "id": "soPZq8diuZVt"
      },
      "source": [
        "###### **1.1.1 Your solution**&emsp;<font color='red'>*LSTM with BatchNormalization, dropout, adam, & L2 regularizer*</font >"
      ]
    },
    {
      "cell_type": "code",
      "execution_count": null,
      "metadata": {
        "colab": {
          "base_uri": "https://localhost:8080/"
        },
        "id": "2OZjTA_W96LE",
        "outputId": "55567833-f315-47b8-a020-7e17a673cdac"
      },
      "outputs": [
        {
          "name": "stdout",
          "output_type": "stream",
          "text": [
            "Epoch 1/25\n",
            "819/819 [==============================] - 53s 61ms/step - loss: 4.2699 - mae: 4.2402 - val_loss: 2.6584 - val_mae: 2.6313\n",
            "Epoch 2/25\n",
            "819/819 [==============================] - 50s 61ms/step - loss: 2.8225 - mae: 2.7968 - val_loss: 2.2846 - val_mae: 2.2600\n",
            "Epoch 3/25\n",
            "819/819 [==============================] - 49s 60ms/step - loss: 2.7309 - mae: 2.7070 - val_loss: 2.4605 - val_mae: 2.4350\n",
            "Epoch 4/25\n",
            "819/819 [==============================] - 51s 62ms/step - loss: 2.6861 - mae: 2.6619 - val_loss: 2.3126 - val_mae: 2.2895\n",
            "Epoch 5/25\n",
            "819/819 [==============================] - 49s 59ms/step - loss: 2.6465 - mae: 2.6238 - val_loss: 2.3868 - val_mae: 2.3644\n",
            "Epoch 6/25\n",
            "818/819 [============================>.] - ETA: 0s - loss: 2.6114 - mae: 2.5891Restoring model weights from the end of the best epoch: 2.\n",
            "819/819 [==============================] - 50s 60ms/step - loss: 2.6114 - mae: 2.5891 - val_loss: 2.3121 - val_mae: 2.2899\n",
            "Epoch 6: early stopping\n",
            "Test MAE: 2.40\n"
          ]
        }
      ],
      "source": [
        "from tensorflow.keras import regularizers\n",
        "\n",
        "model1_1 = Sequential()\n",
        "# Input layer\n",
        "inputs = keras.Input(shape=(sequence_length, raw_data.shape[-1]))\n",
        "# LSTM layer with L2 regularization and dropout\n",
        "x = layers.LSTM(128, kernel_regularizer=regularizers.l2(0.001))(inputs)\n",
        "x = layers.BatchNormalization()(x)\n",
        "x = layers.Dropout(0.7)(x)\n",
        "# Output layer with L2 regularization\n",
        "outputs = layers.Dense(1, kernel_regularizer=regularizers.l2(0.001))(x)\n",
        "\n",
        "model1_1 = keras.Model(inputs, outputs)\n",
        "model1_1.compile(optimizer=keras.optimizers.Adam(learning_rate=0.001), loss='mae', metrics=['mae'])\n",
        "\n",
        "callbacks = [\n",
        "     keras.callbacks.EarlyStopping(\n",
        "     monitor=\"val_loss\",\n",
        "     min_delta=1e-2,\n",
        "     patience=4,\n",
        "     restore_best_weights=True,\n",
        "     verbose=1),\n",
        "    keras.callbacks.ModelCheckpoint(\"jena_lstm_model1_1.h5\",\n",
        "                                    save_best_only=True)\n",
        "]\n",
        "\n",
        "# Fit the model\n",
        "history1_1 = model1_1.fit(train_dataset,\n",
        "                          epochs=25,\n",
        "                          validation_data=val_dataset,\n",
        "                          callbacks=callbacks)\n",
        "\n",
        "# Load the best weights\n",
        "model1_1 = keras.models.load_model(\"jena_lstm_model1_1.h5\")\n",
        "\n",
        "# Evaluate the model\n",
        "print(f\"Test MAE: {model1_1.evaluate(test_dataset, verbose=0)[1]:.2f}\")"
      ]
    },
    {
      "cell_type": "code",
      "execution_count": null,
      "metadata": {
        "colab": {
          "base_uri": "https://localhost:8080/",
          "height": 452
        },
        "id": "kzqahKs-4L8M",
        "outputId": "43a92b60-3bea-45f7-a490-bb63355a4f43"
      },
      "outputs": [
        {
          "data": {
            "image/png": "[encoded data removed]",
            "text/plain": [
              "<Figure size 640x480 with 1 Axes>"
            ]
          },
          "metadata": {},
          "output_type": "display_data"
        }
      ],
      "source": [
        "# graph\n",
        "import matplotlib.pyplot as plt\n",
        "\n",
        "loss = history1_1.history['loss']\n",
        "val_loss = history1_1.history['val_loss']\n",
        "\n",
        "epochs = range(len(loss))\n",
        "\n",
        "plt.figure()\n",
        "\n",
        "plt.plot(epochs, loss, 'bo', label='Training loss')\n",
        "plt.plot(epochs, val_loss, 'b', label='Validation loss')\n",
        "plt.title('Training and validation loss')\n",
        "plt.legend()\n",
        "\n",
        "plt.show()"
      ]
    },
    {
      "cell_type": "markdown",
      "metadata": {
        "id": "eh3dOzKrp-3q"
      },
      "source": [
        "##### **1.2 Summary Table**\n",
        "\n",
        " **Replace the Test MAE values and other contents with your own!**<br>\n",
        " *(double click to modify the table based on your results)*\n",
        "\n",
        "| Method | Test MAE | Remarks |\n",
        "| --- | --- | --- |\n",
        "| Baseline | 2.62 | Silly model: \"tomorrow will be like today\" |\n",
        "| Real first model (LSTM) | 2.59| Slightly better than baseline |\n",
        "| LSTM with BatchNormalization, dropout, adam, & L2 regularizer | 2.40| slightly better, but i found it very difficult to improve upon\n",
        "this without running out of free compute from google :("
      ]
    },
    {
      "cell_type": "markdown",
      "metadata": {
        "id": "HPPt3a7jNNnM"
      },
      "source": [
        "## **Part 2: Sentiment analysis using LSTMs**\n",
        "\n",
        "> In Part 2 we will revisit the IMDB movie review classification task from an earlier assignment, this time using more sophisticated approaches and architectures.\n",
        "\n",
        "> Please refer to Chapter 11 of [our textbook](https://learning.oreilly.com/library/view/deep-learning-with/9781617296864) for background information on NLP and approaches for text representation in deep learning architectures.\n",
        "\n",
        ">  The code (and much of the text) below is essentially from https://www.tensorflow.org/text/tutorials/text_classification_rnn  \n"
      ]
    },
    {
      "cell_type": "markdown",
      "metadata": {
        "id": "5dCbHdZZNNnN"
      },
      "source": [
        "**Useful sources and references for Part 2:**\n",
        "\n",
        "- https://colab.research.google.com/github/fchollet/deep-learning-with-python-notebooks/blob/master/chapter11_part01_introduction.ipynb\n",
        "- https://colab.research.google.com/github/fchollet/deep-learning-with-python-notebooks/blob/master/chapter11_part02_sequence-models.ipynb\n"
      ]
    },
    {
      "cell_type": "markdown",
      "metadata": {
        "id": "_2VQo4bajwUU"
      },
      "source": [
        "### **Imports + auxiliary function**"
      ]
    },
    {
      "cell_type": "code",
      "execution_count": null,
      "metadata": {
        "id": "z682XYsrjkY9"
      },
      "outputs": [],
      "source": [
        "import numpy as np\n",
        "\n",
        "import tensorflow_datasets as tfds\n",
        "import tensorflow as tf\n",
        "\n",
        "tfds.disable_progress_bar()"
      ]
    },
    {
      "cell_type": "markdown",
      "metadata": {
        "id": "1rXHa-w9JZhb"
      },
      "source": [
        "**Import `matplotlib` and create a helper function to plot graphs:**"
      ]
    },
    {
      "cell_type": "code",
      "execution_count": null,
      "metadata": {
        "id": "Mp1Z7P9pYRSK"
      },
      "outputs": [],
      "source": [
        "import matplotlib.pyplot as plt\n",
        "\n",
        "\n",
        "def plot_graphs(history, metric):\n",
        "  plt.plot(history.history[metric])\n",
        "  plt.plot(history.history['val_'+metric], '')\n",
        "  plt.xlabel(\"Epochs\")\n",
        "  plt.ylabel(metric)\n",
        "  plt.legend([metric, 'val_'+metric])"
      ]
    },
    {
      "cell_type": "markdown",
      "metadata": {
        "id": "pRmMubr0jrE2"
      },
      "source": [
        "### **Setup input pipeline**\n",
        "\n",
        "\n",
        "> The IMDB large movie review dataset is a *binary classification* dataset—all the reviews have either a *positive* or *negative* sentiment.\n",
        "\n",
        "> Download the dataset using [TFDS](https://www.tensorflow.org/datasets). See the [loading text tutorial](https://www.tensorflow.org/tutorials/load_data/text) for details on how to load this sort of data manually.\n"
      ]
    },
    {
      "cell_type": "code",
      "execution_count": null,
      "metadata": {
        "colab": {
          "base_uri": "https://localhost:8080/"
        },
        "id": "SHRwRoP2nVHX",
        "outputId": "879c013f-8f44-46af-a442-ad8bf2689cd7"
      },
      "outputs": [
        {
          "output_type": "stream",
          "name": "stdout",
          "text": [
            "Downloading and preparing dataset 80.23 MiB (download: 80.23 MiB, generated: Unknown size, total: 80.23 MiB) to /root/tensorflow_datasets/imdb_reviews/plain_text/1.0.0...\n",
            "Dataset imdb_reviews downloaded and prepared to /root/tensorflow_datasets/imdb_reviews/plain_text/1.0.0. Subsequent calls will reuse this data.\n"
          ]
        },
        {
          "output_type": "execute_result",
          "data": {
            "text/plain": [
              "(TensorSpec(shape=(), dtype=tf.string, name=None),\n",
              " TensorSpec(shape=(), dtype=tf.int64, name=None))"
            ]
          },
          "metadata": {},
          "execution_count": 5
        }
      ],
      "source": [
        "dataset, info = tfds.load('imdb_reviews', with_info=True,\n",
        "                          as_supervised=True)\n",
        "train_dataset, test_dataset = dataset['train'], dataset['test']\n",
        "\n",
        "train_dataset.element_spec"
      ]
    },
    {
      "cell_type": "markdown",
      "metadata": {
        "id": "nWA4c2ir7g6p"
      },
      "source": [
        "**Initially this returns a dataset of (text, label pairs):**"
      ]
    },
    {
      "cell_type": "code",
      "execution_count": null,
      "metadata": {
        "colab": {
          "base_uri": "https://localhost:8080/"
        },
        "id": "vd4_BGKyurao",
        "outputId": "573e43d5-4438-45db-8f57-91fbcabca2d2"
      },
      "outputs": [
        {
          "name": "stdout",
          "output_type": "stream",
          "text": [
            "text:  b\"This was an absolutely terrible movie. Don't be lured in by Christopher Walken or Michael Ironside. Both are great actors, but this must simply be their worst role in history. Even their great acting could not redeem this movie's ridiculous storyline. This movie is an early nineties US propaganda piece. The most pathetic scenes were those when the Columbian rebels were making their cases for revolutions. Maria Conchita Alonso appeared phony, and her pseudo-love affair with Walken was nothing but a pathetic emotional plug in a movie that was devoid of any real meaning. I am disappointed that there are movies like this, ruining actor's like Christopher Walken's good name. I could barely sit through it.\"\n",
            "label:  0\n"
          ]
        }
      ],
      "source": [
        "for example, label in train_dataset.take(1):\n",
        "  print('text: ', example.numpy())\n",
        "  print('label: ', label.numpy())"
      ]
    },
    {
      "cell_type": "markdown",
      "metadata": {
        "id": "z2qVJzcEluH_"
      },
      "source": [
        "**Next shuffle the data for training and create batches of these `(text, label)` pairs:**"
      ]
    },
    {
      "cell_type": "code",
      "execution_count": null,
      "metadata": {
        "id": "dDsCaZCDYZgm"
      },
      "outputs": [],
      "source": [
        "BUFFER_SIZE = 10000\n",
        "BATCH_SIZE = 64"
      ]
    },
    {
      "cell_type": "code",
      "execution_count": null,
      "metadata": {
        "id": "VznrltNOnUc5"
      },
      "outputs": [],
      "source": [
        "train_dataset = train_dataset.shuffle(BUFFER_SIZE).batch(BATCH_SIZE).prefetch(tf.data.AUTOTUNE)\n",
        "test_dataset = test_dataset.batch(BATCH_SIZE).prefetch(tf.data.AUTOTUNE)"
      ]
    },
    {
      "cell_type": "code",
      "execution_count": null,
      "metadata": {
        "colab": {
          "base_uri": "https://localhost:8080/"
        },
        "id": "jqkvdcFv41wC",
        "outputId": "113785c4-3297-436f-e4e4-508d22b94735"
      },
      "outputs": [
        {
          "name": "stdout",
          "output_type": "stream",
          "text": [
            "texts:  [b\"Despite a tight narrative, Johnnie To's Election feels at times like it was once a longer picture, with many characters and plot strands abandoned or ultimately unresolved. Some of these are dealt with in the truly excellent and far superior sequel, Election 2: Harmony is a Virtue, but it's still a dependably enthralling thriller about a contested Triad election that bypasses the usual shootouts and explosions (though not the violence) in favour of constantly shifting alliances that can turn in the time it takes to make a phone call. It's also a film where the most ruthless character isn't always the most threatening one, as the chilling ending makes only too clear: one can imagine a lifetime of psychological counselling being necessary for all the trauma that one inflicts on one unfortunate bystander.<br /><br />Simon Yam, all too often a variable actor but always at his best under To's direction, has possibly never been better in the lead, not least because Tony Leung's much more extrovert performance makes his stillness more the powerful.\"\n",
            " b\"The Order starts in Rome where the head of a special order of priests who deal in ghosts & demons named Brother Dominic (Francesco Carnelutti) is found dead, cut to New York City where one of his order Alex Bernier (Heath Ledger) is contacted by top-brass Cardinal Driscoll (Peter Weller) who ask's him to investigate the mysterious circumstances surrounding Dominic's death. Along with his girlfriend Mara Willims (Shannyn Sossamon) & fellow priest Thomas Garrett (Mark Addy) Alex travels to Italy to delve into his mentor's death, as the truth begins to emerge it appears that Dominic was a 'Sin Eater' someone who absorbed other's sins & lived with the burden of them so they could die peacefully & that the Church wasn't happy about his activities. Alex must do what's right even if it goes against what he believes...<br /><br />Also know under the title The Sin Eater this American German co-production was written, produced & directed by Bian Helgeland & didn't really do that much for me if I'm honest & I usually am, honest that is. Anyway lets start with the mess of a script that has some OK ideas but it's throughly predictable, excruciatingly dull & boring, really silly at times & it takes itself far too seriously. The whole concept is daft & while it thinks it's clever with it's oh so neat twist ending that ties everything up & brings the story full circle I thought it was the most obvious & lazy way to end things. There's the usual religious themes here, morality, sin, forgiveness, faith, belief, prophecy's, blah, blah, blah you know the sort of thing. Then there's the twists which aren't hard to see coming, there's the abuse of power by high ranking clergymen, corruption, greed, evil, etc. you know the sort of clich\\xc3\\xa9d Hollywood ideals & themes that get reused every time it deals with the Church. The Order has nothing new to say & as a serious piece of film-making it sucks, a lot. I'm not too sure who The Order is meant to appeal to, as a die-hard horror fan I didn't see much horror in this at all, as a thriller it's less than thrilling, as a mystery it's too predictable & there's nothing here to really grip or maintain ones interest & for some reason I cannot figure out the IMDb also lists The Order as an action film which is absurd as it's as exciting & action-packed as the average episode of Sesame Street (1969 - present), harsh maybe but it's what I think...<br /><br />Director Helgeland does an OK job, the film seems to have a very soft lighting scheme & it all looks a bit drab, grayish & dull. For a supposed horror film The Order is very light on scares or horror elements, in fact there aren't any of either apart from two evil kids who can turn into a flock of birds for no apparent reason, don't ask. Forget about any gore or violence as there isn't any which is fine but it would have helped at least make The Order somewhat watchable. According the IMDb's 'Trivia' section the release date of The Order was put back so some of the special effects could be improved because they looked unintentionally funny, all I can say is judging by the finished film the effects must have been really bad to start with because they aren't exactly brilliant as it stands now.<br /><br />I was amazed to see The Order had a budget of about $28,000,000 which is a hell of a lot of money & I just can't see where it all went apart from the sets & production design which are good. The whole film looks & feels very average & utterly forgettable. The acting is OK although the annoying fat guy who seems to be some sort of foul-mouthed comic relief irritates, a good actor such as Peter Weller deserves better than this.<br /><br />The Order, I prefer the title The Sin Eater actually not that it matters too much, misses all of it's intended targets by the proverbial mile as far as I'm concerned & is a pretty dull way to waste 100 odd minutes of your life so don't do it! Not recommended.\"\n",
            " b'Let\\'s hope this is the final nightmare. This is the epitome of a good thing gone bad. Okay, there is still some enjoyment to be had, but only in the most mundane sense. Rachel Talalay had been there for the duration of this franchise, had been on the production staff and produced even. I don\\'t know what she was thinking, but this debacle comes complete with the human video game boy and a guest appearance by<br /><br />Tom and Roseanne Arnold! I wish I had a clue what she was thinking when she wrote/directed this disappointing piece of garbage. She even tried to distract her audience from the fact that this movie was nothing more than an over-glorified popcorn movie instead of bearing any resemblance to horror, with the contrived use of a 3D ending. Aren\\'t those glasses nifty? And you get to KEEP them! It\\'s the equivalent of, you just spent $9.00 making me rich. Here\\'s 10 cents. Now, don\\'t you feel special!? Sorry, but for me, it just did not make me feel special. <br /><br />And Freddy\\'s had yet another face-lift. This one was for the worst, I think. All the beautiful artistry that went into his \"look\" in the earlier films has been replaced by an obviously cheaper, less detailed set of prosthetics. He looks ... less like the burn victim he is supposed to be, and more like he has a skin disorder. Changing the lead\\'s makeup like that so far into a series is about on the same level as changing the lead actor. But wait! They\\'ve done that, and done that. So I guess it doesn\\'t matter. But it mattered to me. Freddy is no longer SCARY. He\\'s just ... another low-rent monster like the Leprechaun. <br /><br />It\\'s more...a dark comedy than the horror classic this series promises; riddled with what you can only hope the writers thought were witty one-liners and clever repartee (sadly, it fell short on both accounts). <br /><br />So there\\'s nothing more to say than grab the popcorn and get ready to laugh, because there was not one scary or suspenseful moment in this entire film. <br /><br />It rates a 3.2/10 from...<br /><br />the Fiend :.']\n",
            "\n",
            "labels:  [1 0 0]\n"
          ]
        }
      ],
      "source": [
        "for example, label in train_dataset.take(1):\n",
        "  print('texts: ', example.numpy()[:3])\n",
        "  print()\n",
        "  print('labels: ', label.numpy()[:3])"
      ]
    },
    {
      "cell_type": "markdown",
      "metadata": {
        "id": "s5eWCo88voPY"
      },
      "source": [
        "### **Create the text encoder**"
      ]
    },
    {
      "cell_type": "markdown",
      "metadata": {
        "id": "TFevcItw15P_"
      },
      "source": [
        "The raw text loaded by `tfds` needs to be processed before it can be used in a model. The simplest way to process text for training is using the `TextVectorization` layer. This layer has many capabilities, but this tutorial sticks to the default behavior.\n",
        "\n",
        "**Create the layer, and pass the dataset's text to the layer's `.adapt` method:**"
      ]
    },
    {
      "cell_type": "code",
      "execution_count": null,
      "metadata": {
        "id": "uC25Lu1Yvuqy"
      },
      "outputs": [],
      "source": [
        "VOCAB_SIZE = 1000\n",
        "encoder = tf.keras.layers.TextVectorization(\n",
        "    max_tokens=VOCAB_SIZE)\n",
        "encoder.adapt(train_dataset.map(lambda text, label: text))"
      ]
    },
    {
      "cell_type": "markdown",
      "metadata": {
        "id": "IuQzVBbe3Ldu"
      },
      "source": [
        "**The `.adapt` method sets the layer's vocabulary. Here are the first 20 tokens. After the padding and unknown tokens they're sorted by frequency: **"
      ]
    },
    {
      "cell_type": "code",
      "execution_count": null,
      "metadata": {
        "colab": {
          "base_uri": "https://localhost:8080/"
        },
        "id": "tBoyjjWg0Ac9",
        "outputId": "c47dc224-7dbd-41e7-a288-c7cf911985e7"
      },
      "outputs": [
        {
          "data": {
            "text/plain": [
              "array(['', '[UNK]', 'the', 'and', 'a', 'of', 'to', 'is', 'in', 'it', 'i',\n",
              "       'this', 'that', 'br', 'was', 'as', 'for', 'with', 'movie', 'but'],\n",
              "      dtype='<U14')"
            ]
          },
          "execution_count": 30,
          "metadata": {},
          "output_type": "execute_result"
        }
      ],
      "source": [
        "vocab = np.array(encoder.get_vocabulary())\n",
        "vocab[:20]"
      ]
    },
    {
      "cell_type": "markdown",
      "metadata": {
        "id": "mjId5pua3jHQ"
      },
      "source": [
        "**Once the vocabulary is set, the layer can encode text into indices. The tensors of indices are 0-padded to the longest sequence in the batch (unless you set a fixed `output_sequence_length`):**"
      ]
    },
    {
      "cell_type": "code",
      "execution_count": null,
      "metadata": {
        "colab": {
          "base_uri": "https://localhost:8080/"
        },
        "id": "RGc7C9WiwRWs",
        "outputId": "2862d685-9b5b-4440-a9ea-7ecbce641721"
      },
      "outputs": [
        {
          "data": {
            "text/plain": [
              "array([[ 11,   7,   4, ...,   0,   0,   0],\n",
              "       [ 10, 604,   1, ...,   0,   0,   0],\n",
              "       [ 10, 628, 147, ...,   0,   0,   0]])"
            ]
          },
          "execution_count": 31,
          "metadata": {},
          "output_type": "execute_result"
        }
      ],
      "source": [
        "encoded_example = encoder(example)[:3].numpy()\n",
        "encoded_example"
      ]
    },
    {
      "cell_type": "markdown",
      "metadata": {
        "id": "F5cjz0bS39IN"
      },
      "source": [
        "**With the default settings, the process is not completely reversible. There are three main reasons for that:**\n",
        "\n",
        "1. The default value for `preprocessing.TextVectorization`'s `standardize` argument is `\"lower_and_strip_punctuation\"`.\n",
        "2. The limited vocabulary size and lack of character-based fallback results in some unknown tokens."
      ]
    },
    {
      "cell_type": "code",
      "execution_count": null,
      "metadata": {
        "colab": {
          "base_uri": "https://localhost:8080/"
        },
        "id": "N_tD0QY5wXaK",
        "outputId": "457b4e19-496f-40ac-e46a-f19d701abc1b"
      },
      "outputs": [
        {
          "name": "stdout",
          "output_type": "stream",
          "text": [
            "Original:  b'As serials go \"Zorro\\'s Fighting Legion\" is one of the best action serials of the 1930s. Made in a period when the studios could still field a large cast, this one has wall to wall action throughout its 12 chapters.<br /><br />In 1824 the President of the newly formed Republic of Mexico Benito Juarez (Carleton Young) is trying to put his new country on a solid financial footing. To that end, he has arranged to have rich gold shipments forwarded to the capitol from the local San Mendolita mine.<br /><br />Members of the local council plot to steal the shipments on behalf of Don-del-Oro a gold armored god, who with the aid of the local Yaqui tribe, hopes to install himself as the ruler of Mexico. Opposing him is Don Francisco (Guy D\\'Ennery) who forms a legion of locals to aid Juarez. When Don Franciso is murdered by Don-del-Oro\\'s men, a stranger, the fopish Don Diego (Reed Hadley) arrives in town. Diego aka Zorro takes over the legion with the help of his friends Ramon (William Corson) and Juan (Budd Buster). The token heroine of the piece is Ramon\\'s sister Volita (Sheila D\\'Arcy).<br /><br />Both Diego and Ramon hold seats on the local ruling Counsil. It soon becomes apparent that some of the other members of the Council are in league with Don-del-Oro. First there is the Chairman of the Council (Leander de Cordova), the head of the militia Manuel (John Merton), Chief Justice Pablo (C. Montague Shaw) and Gonzolez (Edmund Cobb). Zorro suspects that one of these men is Don-del-Oro, but which one?<br /><br />What follows are several hair raising escapes by Zorro and his confederates from the followers of Don-del-Oro. We have the ever present collapsing rope bridge, the deep chasm between two cliffs over which only Zorro can jump to safety, and the usual assortment of explosions, fires and coaches and wagons crashing or going over the cliff. Hats off here to Republic\\'s fine team of stunt men lead by the legendary Yakima Canutt and the Yrigoyens, Bill and Joe. Canutt performs his signature stunt jumping on a team of runaway horses and then falling beneath the coach which he repeated in other films including John Ford\\'s \"Stagecoach\" the same year.<br /><br />Anyway, Zorro finally unmasks the false god Don-del-Oro and restores peace to the valley before riding off into the sunset in Chapter 12.<br /><br />Others in the cast include Jim Pierce, Curley Dresden and Charlie King as Don-del-Oro\\'s hence men and if you look closely you may spot bits by future serial star and Lone Ranger Clayton Moore and stuntman Canutt in bits. \"Big\" Jim Pierce by the way, may be best remembered for playing Tarzan in 1927\\'s \"Tarzan and the Golden Liom\" (1927) and for his marriage to Joan Burroughs the daughter of Tarzan creator Edgar Rice Burroughs.<br /><br />Thoroughly enjoyable.'\n",
            "Round-trip:  as [UNK] go [UNK] fighting [UNK] is one of the best action [UNK] of the [UNK] made in a period when the [UNK] could still [UNK] a [UNK] cast this one has [UNK] to [UNK] action throughout its [UNK] [UNK] br in [UNK] the [UNK] of the [UNK] [UNK] [UNK] of [UNK] [UNK] [UNK] [UNK] young is trying to put his new country on a [UNK] [UNK] [UNK] to that end he has [UNK] to have [UNK] [UNK] [UNK] [UNK] to the [UNK] from the local [UNK] [UNK] [UNK] br [UNK] of the local [UNK] plot to [UNK] the [UNK] on [UNK] of [UNK] a [UNK] [UNK] god who with the [UNK] of the local [UNK] [UNK] [UNK] to [UNK] himself as the [UNK] of [UNK] [UNK] him is [UNK] [UNK] guy [UNK] who [UNK] a [UNK] of [UNK] to [UNK] [UNK] when [UNK] [UNK] is [UNK] by [UNK] men a [UNK] the [UNK] [UNK] [UNK] [UNK] [UNK] [UNK] in town [UNK] [UNK] [UNK] takes over the [UNK] with the help of his friends [UNK] [UNK] [UNK] and [UNK] [UNK] [UNK] the [UNK] [UNK] of the piece is [UNK] sister [UNK] [UNK] [UNK] br both [UNK] and [UNK] [UNK] [UNK] on the local [UNK] [UNK] it soon becomes [UNK] that some of the other [UNK] of the [UNK] are in [UNK] with [UNK] first there is the [UNK] of the [UNK] [UNK] de [UNK] the head of the [UNK] [UNK] john [UNK] [UNK] [UNK] [UNK] [UNK] [UNK] [UNK] and [UNK] [UNK] [UNK] [UNK] [UNK] that one of these men is [UNK] but which [UNK] br what [UNK] are several [UNK] [UNK] [UNK] by [UNK] and his [UNK] from the [UNK] of [UNK] we have the ever present [UNK] [UNK] [UNK] the deep [UNK] between two [UNK] over which only [UNK] can [UNK] to [UNK] and the usual [UNK] of [UNK] [UNK] and [UNK] and [UNK] [UNK] or going over the [UNK] [UNK] off here to [UNK] fine team of [UNK] men lead by the [UNK] [UNK] [UNK] and the [UNK] bill and joe [UNK] [UNK] his [UNK] [UNK] [UNK] on a team of [UNK] [UNK] and then [UNK] [UNK] the [UNK] which he [UNK] in other films including john [UNK] [UNK] the same [UNK] br anyway [UNK] finally [UNK] the [UNK] god [UNK] and [UNK] [UNK] to the [UNK] before [UNK] off into the [UNK] in [UNK] [UNK] br others in the cast [UNK] [UNK] [UNK] [UNK] [UNK] and [UNK] king as [UNK] [UNK] men and if you look [UNK] you may [UNK] [UNK] by future [UNK] star and [UNK] [UNK] [UNK] [UNK] and [UNK] [UNK] in [UNK] big [UNK] [UNK] by the way may be best [UNK] for playing [UNK] in [UNK] [UNK] and the [UNK] [UNK] [UNK] and for his [UNK] to [UNK] [UNK] the daughter of [UNK] [UNK] [UNK] [UNK] [UNK] br [UNK] enjoyable                                                                                                                                                                                                                                                                                                                    \n",
            "\n",
            "Original:  b\"It's always tough having a sibling doing better in their life than you, always a struggle to get out from under that shadow and not let bitterness keep you away from your family. So, imagine that your older brother is Santa and then imagine how tough that must be. That's the premise here.<br /><br />Vince Vaughn plays the titular Fred, an embittered loser who spends a lot of his energy making sure that people don't go around expecting good things to happen to them or giving his brother, Santa (played by Paul Giamatti), too much praise for simply being the limelight-hogging, fame-hungry, slightly creepy guy that Fred would want to portray him as. Then, wouldn't you know it, Fred needs a financial favour and so has to make up for it by helping his brother on the run up to Christmas. And hilarity and life lessons ensue.<br /><br />Well, that's what should happen. The reality is that we get a Christmas movie featuring a few good moments of Vaughn's patented fast-talking, a ridiculously out-of-nowhere music video moment, Kevin Spacey playing an auditor out to close down Santa's operation (and he's one of the weakest baddies I have seen in some time), not enough of the gorgeous Elizabeth Banks in a lush Christmas outfit, too much of John Michael Higgins in his elf outfit (to be fair, he's a highlight though) and a movie that's too swimming in bitterness to feel like good seasonal fare yet too schmaltzy in it's latter half to feel like a fun poke at all the bad things about the commercialism of the time.<br /><br />Rachel Weisz is along for the ride too, as is Kathy Bates, but it's really nothing more than a movie for Vaughn and if you like his style you will find something to enjoy here. Unfortunately, there's very little else to recommend this seasonal stinker. Outside of Vaughn's rantings the script barely throws up anything decent with the exception of one particularly good scene involving a hilarious support group dealing with a very specific problem.<br /><br />David Dobkin's direction is as mediocre and staid as the 20p Christmas card that you send the auntie you haven't seen in 10 years and he seems to think that simply putting the ingredients together without a good mix or decent care taken will guarantee a delicious Christmas pudding. Nope, we get a burnt, bland lump with too much sugar on top. Forget this and stick the hilarious Elf on again if you want a great, modern Christmas comedy.<br /><br />See this if you like: The Santa Clause 2, Santa Baby, The Santa Clause 3: The Escape Clause.\"\n",
            "Round-trip:  its always [UNK] having a [UNK] doing better in their life than you always a [UNK] to get out from under that [UNK] and not let [UNK] keep you away from your family so imagine that your older brother is [UNK] and then imagine how [UNK] that must be thats the premise [UNK] br [UNK] [UNK] plays the [UNK] [UNK] an [UNK] [UNK] who [UNK] a lot of his [UNK] making sure that people dont go around expecting good things to happen to them or giving his brother [UNK] played by paul [UNK] too much [UNK] for simply being the [UNK] [UNK] [UNK] creepy guy that [UNK] would want to [UNK] him as then wouldnt you know it [UNK] needs a [UNK] [UNK] and so has to make up for it by [UNK] his brother on the run up to christmas and [UNK] and life [UNK] [UNK] br well thats what should happen the reality is that we get a christmas movie [UNK] a few good moments of [UNK] [UNK] [UNK] a [UNK] [UNK] music video moment [UNK] [UNK] playing an [UNK] out to close down [UNK] [UNK] and hes one of the [UNK] [UNK] i have seen in some time not enough of the [UNK] [UNK] [UNK] in a [UNK] christmas [UNK] too much of john michael [UNK] in his [UNK] [UNK] to be [UNK] hes a [UNK] though and a movie thats too [UNK] in [UNK] to feel like good [UNK] [UNK] yet too [UNK] in its [UNK] half to feel like a fun [UNK] at all the bad things about the [UNK] of the [UNK] br [UNK] [UNK] is along for the [UNK] too as is [UNK] [UNK] but its really nothing more than a movie for [UNK] and if you like his style you will find something to enjoy here unfortunately theres very little else to recommend this [UNK] [UNK] outside of [UNK] [UNK] the script [UNK] [UNK] up anything decent with the [UNK] of one particularly good scene [UNK] a hilarious [UNK] group [UNK] with a very [UNK] [UNK] br david [UNK] direction is as [UNK] and [UNK] as the [UNK] christmas [UNK] that you [UNK] the [UNK] you havent seen in 10 years and he seems to think that simply [UNK] the [UNK] together without a good [UNK] or decent care taken will [UNK] a [UNK] christmas [UNK] [UNK] we get a [UNK] [UNK] [UNK] with too much [UNK] on top forget this and [UNK] the hilarious [UNK] on again if you want a great modern christmas [UNK] br see this if you like the [UNK] [UNK] 2 [UNK] baby the [UNK] [UNK] 3 the [UNK] [UNK]                                                                                                                                                                                                                                                                                                                                                      \n",
            "\n",
            "Original:  b'Yes, the cameras were in the right place at the right time. It\\'s so interesting to see how a world leader (like Chavez) who supports the poor people in his country, can be held in such low esteem in the US. His worst \"sin\", in my opinion, is caring about those who are at the bottom of the barrel. What can be so bad about that? I have always been fascinated by the US government+media reaction to Fidel Castro. At first, Castro was a good guy (around 1959) when he supplanted Batista. Soon, however, Castro started turning the corporations in Cuba toward the needs of the poor instead of the fat cats. We\\'re a decent country, but why does our media and government have such a problem with sharing with the poor? If these guys are \"dictators,\" then we could use more \"dictatorships\" especially where the poorest of the poor live in the world.'\n",
            "Round-trip:  yes the [UNK] were in the right place at the right time its so interesting to see how a world [UNK] like [UNK] who [UNK] the poor people in his country can be [UNK] in such low [UNK] in the us his worst [UNK] in my opinion is [UNK] about those who are at the [UNK] of the [UNK] what can be so bad about that i have always been [UNK] by the us [UNK] [UNK] to [UNK] [UNK] at first [UNK] was a good guy around [UNK] when he [UNK] [UNK] soon however [UNK] started [UNK] the [UNK] in [UNK] [UNK] the needs of the poor instead of the [UNK] [UNK] were a decent country but why does our [UNK] and [UNK] have such a problem with [UNK] with the poor if these guys are [UNK] then we could use more [UNK] especially where the [UNK] of the poor live in the world                                                                                                                                                                                                                                                                                                                                                                                                                                                                                                                                                                                                                                                       \n",
            "\n"
          ]
        }
      ],
      "source": [
        "for n in range(3):\n",
        "  print(\"Original: \", example[n].numpy())\n",
        "  print(\"Round-trip: \", \" \".join(vocab[encoded_example[n]]))\n",
        "  print()"
      ]
    },
    {
      "cell_type": "markdown",
      "metadata": {
        "id": "bjUqGVBxGw-t"
      },
      "source": [
        "### **Create the first model**\n",
        "\n",
        "Please refer to https://www.tensorflow.org/text/tutorials/text_classification_rnn for detailed explanation + diagram."
      ]
    },
    {
      "cell_type": "code",
      "execution_count": null,
      "metadata": {
        "id": "LwfoBkmRYcP3"
      },
      "outputs": [],
      "source": [
        "model = tf.keras.Sequential([\n",
        "    encoder,\n",
        "    tf.keras.layers.Embedding(\n",
        "        input_dim=len(encoder.get_vocabulary()),\n",
        "        output_dim=64,\n",
        "        # Use masking to handle the variable sequence lengths\n",
        "        mask_zero=True),\n",
        "    tf.keras.layers.Bidirectional(tf.keras.layers.LSTM(64)),\n",
        "    tf.keras.layers.Dense(64, activation='relu'),\n",
        "    tf.keras.layers.Dense(1)\n",
        "])"
      ]
    },
    {
      "cell_type": "markdown",
      "metadata": {
        "id": "QIGmIGkkouUb"
      },
      "source": [
        "Please note that Keras sequential model is used here since all the layers in the model only have single input and produce single output. In case you want to use stateful RNN layer, you might want to build your model with Keras functional API or model subclassing so that you can retrieve and reuse the RNN layer states. Please check [Keras RNN guide](https://www.tensorflow.org/guide/keras/rnn#rnn_state_reuse) for more details."
      ]
    },
    {
      "cell_type": "markdown",
      "metadata": {
        "id": "kF-PsCk1LwjY"
      },
      "source": [
        "The embedding layer [uses masking](https://www.tensorflow.org/guide/keras/masking_and_padding) to handle the varying sequence-lengths. All the layers after the `Embedding` support masking:"
      ]
    },
    {
      "cell_type": "code",
      "execution_count": null,
      "metadata": {
        "colab": {
          "base_uri": "https://localhost:8080/"
        },
        "id": "87a8-CwfKebw",
        "outputId": "97fa6da6-73a4-4c47-ef3a-079cb8c26a30"
      },
      "outputs": [
        {
          "name": "stdout",
          "output_type": "stream",
          "text": [
            "[False, True, True, True, True]\n"
          ]
        }
      ],
      "source": [
        "print([layer.supports_masking for layer in model.layers])"
      ]
    },
    {
      "cell_type": "markdown",
      "metadata": {
        "id": "ZlS0iaUIWLpI"
      },
      "source": [
        "**To confirm that this works as expected, evaluate a sentence twice. First, alone so there's no padding to mask:**"
      ]
    },
    {
      "cell_type": "code",
      "execution_count": null,
      "metadata": {
        "colab": {
          "base_uri": "https://localhost:8080/"
        },
        "id": "O41gw3KfWHus",
        "outputId": "e0b8593c-6d71-4113-b99e-be0878cd3f96"
      },
      "outputs": [
        {
          "name": "stdout",
          "output_type": "stream",
          "text": [
            "1/1 [==============================] - 7s 7s/step\n",
            "[0.01541589]\n"
          ]
        }
      ],
      "source": [
        "# predict on a sample text without padding.\n",
        "\n",
        "sample_text = ('The movie was cool. The animation and the graphics '\n",
        "               'were out of this world. I would recommend this movie.')\n",
        "predictions = model.predict(np.array([sample_text]))\n",
        "print(predictions[0])"
      ]
    },
    {
      "cell_type": "markdown",
      "metadata": {
        "id": "K0VQmGnEWcuz"
      },
      "source": [
        " **Now, evaluate it again in a batch with a longer sentence. The result should be identical:**"
      ]
    },
    {
      "cell_type": "code",
      "execution_count": null,
      "metadata": {
        "colab": {
          "base_uri": "https://localhost:8080/"
        },
        "id": "UIgpuTeFNDzq",
        "outputId": "9254b460-f91e-4f61-e8e6-269137d07efc"
      },
      "outputs": [
        {
          "name": "stdout",
          "output_type": "stream",
          "text": [
            "1/1 [==============================] - 0s 68ms/step\n",
            "[0.01541589]\n"
          ]
        }
      ],
      "source": [
        "# predict on a sample text with padding\n",
        "\n",
        "padding = \"the \" * 2000\n",
        "predictions = model.predict(np.array([sample_text, padding]))\n",
        "print(predictions[0])"
      ]
    },
    {
      "cell_type": "markdown",
      "metadata": {
        "id": "sRI776ZcH3Tf"
      },
      "source": [
        "**Compile the Keras model to configure the training process:**"
      ]
    },
    {
      "cell_type": "code",
      "execution_count": null,
      "metadata": {
        "id": "kj2xei41YZjC"
      },
      "outputs": [],
      "source": [
        "model.compile(loss=tf.keras.losses.BinaryCrossentropy(from_logits=True),\n",
        "              optimizer=tf.keras.optimizers.Adam(1e-4),\n",
        "              metrics=['accuracy'])"
      ]
    },
    {
      "cell_type": "markdown",
      "metadata": {
        "id": "zIwH3nto596k"
      },
      "source": [
        "### **Train the model**"
      ]
    },
    {
      "cell_type": "code",
      "execution_count": null,
      "metadata": {
        "colab": {
          "base_uri": "https://localhost:8080/"
        },
        "id": "hw86wWS4YgR2",
        "outputId": "9e9123d0-2089-4b47-d596-0473487210dd"
      },
      "outputs": [
        {
          "name": "stdout",
          "output_type": "stream",
          "text": [
            "Epoch 1/10\n",
            "391/391 [==============================] - 59s 116ms/step - loss: 0.6451 - accuracy: 0.5682 - val_loss: 0.4869 - val_accuracy: 0.7500\n",
            "Epoch 2/10\n",
            "391/391 [==============================] - 28s 71ms/step - loss: 0.4166 - accuracy: 0.8115 - val_loss: 0.3873 - val_accuracy: 0.8271\n",
            "Epoch 3/10\n",
            "391/391 [==============================] - 26s 66ms/step - loss: 0.3551 - accuracy: 0.8442 - val_loss: 0.3527 - val_accuracy: 0.8385\n",
            "Epoch 4/10\n",
            "391/391 [==============================] - 26s 66ms/step - loss: 0.3306 - accuracy: 0.8547 - val_loss: 0.3441 - val_accuracy: 0.8568\n",
            "Epoch 5/10\n",
            "391/391 [==============================] - 25s 65ms/step - loss: 0.3182 - accuracy: 0.8608 - val_loss: 0.3310 - val_accuracy: 0.8568\n",
            "Epoch 6/10\n",
            "391/391 [==============================] - 25s 63ms/step - loss: 0.3094 - accuracy: 0.8682 - val_loss: 0.3273 - val_accuracy: 0.8432\n",
            "Epoch 7/10\n",
            "391/391 [==============================] - 26s 65ms/step - loss: 0.3081 - accuracy: 0.8662 - val_loss: 0.3227 - val_accuracy: 0.8490\n",
            "Epoch 8/10\n",
            "391/391 [==============================] - 25s 63ms/step - loss: 0.3033 - accuracy: 0.8687 - val_loss: 0.3227 - val_accuracy: 0.8557\n",
            "Epoch 9/10\n",
            "391/391 [==============================] - 26s 66ms/step - loss: 0.3013 - accuracy: 0.8697 - val_loss: 0.3250 - val_accuracy: 0.8562\n",
            "Epoch 10/10\n",
            "391/391 [==============================] - 29s 74ms/step - loss: 0.2994 - accuracy: 0.8702 - val_loss: 0.3267 - val_accuracy: 0.8609\n"
          ]
        }
      ],
      "source": [
        "history = model.fit(train_dataset, epochs=10,\n",
        "                    validation_data=test_dataset,\n",
        "                    validation_steps=30)"
      ]
    },
    {
      "cell_type": "code",
      "execution_count": null,
      "metadata": {
        "colab": {
          "base_uri": "https://localhost:8080/"
        },
        "id": "BaNbXi43YgUT",
        "outputId": "ed356526-af1e-4422-8831-2d7c95a25fd3"
      },
      "outputs": [
        {
          "name": "stdout",
          "output_type": "stream",
          "text": [
            "391/391 [==============================] - 11s 29ms/step - loss: 0.3259 - accuracy: 0.8624\n",
            "Test Loss: 0.32592061161994934\n",
            "Test Accuracy: 0.8623600006103516\n"
          ]
        }
      ],
      "source": [
        "test_loss, test_acc = model.evaluate(test_dataset)\n",
        "\n",
        "print('Test Loss:', test_loss)\n",
        "print('Test Accuracy:', test_acc)"
      ]
    },
    {
      "cell_type": "code",
      "execution_count": null,
      "metadata": {
        "colab": {
          "base_uri": "https://localhost:8080/",
          "height": 469
        },
        "id": "OZmwt_mzaQJk",
        "outputId": "ceeafbbb-0132-4a18-a0ac-6d627888436c"
      },
      "outputs": [
        {
          "data": {
            "text/plain": [
              "(0.0, 0.6624284490942955)"
            ]
          },
          "execution_count": 20,
          "metadata": {},
          "output_type": "execute_result"
        },
        {
          "data": {
            "image/png": "[encoded data removed]",
            "text/plain": [
              "<Figure size 1600x800 with 2 Axes>"
            ]
          },
          "metadata": {},
          "output_type": "display_data"
        }
      ],
      "source": [
        "plt.figure(figsize=(16, 8))\n",
        "plt.subplot(1, 2, 1)\n",
        "plot_graphs(history, 'accuracy')\n",
        "plt.ylim(None, 1)\n",
        "plt.subplot(1, 2, 2)\n",
        "plot_graphs(history, 'loss')\n",
        "plt.ylim(0, None)"
      ]
    },
    {
      "cell_type": "markdown",
      "metadata": {
        "id": "DwSE_386uhxD"
      },
      "source": [
        "**Run a prediction on a new sentence:**\n",
        "\n",
        "If the prediction is >= 0.0, it is positive else it is negative."
      ]
    },
    {
      "cell_type": "code",
      "execution_count": null,
      "metadata": {
        "colab": {
          "base_uri": "https://localhost:8080/"
        },
        "id": "ZXgfQSgRW6zU",
        "outputId": "2a66d602-c427-4421-9205-d7aef69899a6"
      },
      "outputs": [
        {
          "name": "stdout",
          "output_type": "stream",
          "text": [
            "1/1 [==============================] - 0s 39ms/step\n",
            "[[0.94310325]]\n"
          ]
        }
      ],
      "source": [
        "sample_text = ('The movie was cool. The animation and the graphics '\n",
        "               'were out of this world. I would recommend this movie.')\n",
        "predictions = model.predict(np.array([sample_text]))\n",
        "print(predictions)"
      ]
    },
    {
      "cell_type": "markdown",
      "metadata": {
        "id": "7g1evcaRpTKm"
      },
      "source": [
        "### **Second model: stacking two LSTM layers**\n",
        "\n",
        "Please refer to https://www.tensorflow.org/text/tutorials/text_classification_rnn for additional explanation + diagram."
      ]
    },
    {
      "cell_type": "markdown",
      "metadata": {
        "id": "wbSClCrG1z8l"
      },
      "source": [
        "**The interesting thing about using an `RNN` with `return_sequences=True` is that the output still has 3-axes, like the input, so it can be passed to another RNN layer, like this:**"
      ]
    },
    {
      "cell_type": "code",
      "execution_count": null,
      "metadata": {
        "id": "jo1jjO3vn0jo"
      },
      "outputs": [],
      "source": [
        "model = tf.keras.Sequential([\n",
        "    encoder,\n",
        "    tf.keras.layers.Embedding(len(encoder.get_vocabulary()), 64, mask_zero=True),\n",
        "    tf.keras.layers.Bidirectional(tf.keras.layers.LSTM(64,  return_sequences=True)),\n",
        "    tf.keras.layers.Bidirectional(tf.keras.layers.LSTM(32)),\n",
        "    tf.keras.layers.Dense(64, activation='relu'),\n",
        "    tf.keras.layers.Dropout(0.5),\n",
        "    tf.keras.layers.Dense(1)\n",
        "])"
      ]
    },
    {
      "cell_type": "code",
      "execution_count": null,
      "metadata": {
        "id": "hEPV5jVGp-is"
      },
      "outputs": [],
      "source": [
        "model.compile(loss=tf.keras.losses.BinaryCrossentropy(from_logits=True),\n",
        "              optimizer=tf.keras.optimizers.Adam(1e-4),\n",
        "              metrics=['accuracy'])"
      ]
    },
    {
      "cell_type": "code",
      "execution_count": null,
      "metadata": {
        "colab": {
          "base_uri": "https://localhost:8080/"
        },
        "id": "LeSE-YjdqAeN",
        "outputId": "ac302827-3052-46e0-e6cf-692f87716926"
      },
      "outputs": [
        {
          "name": "stdout",
          "output_type": "stream",
          "text": [
            "Epoch 1/10\n",
            "391/391 [==============================] - 84s 172ms/step - loss: 0.6316 - accuracy: 0.5773 - val_loss: 0.4252 - val_accuracy: 0.8125\n",
            "Epoch 2/10\n",
            "391/391 [==============================] - 49s 125ms/step - loss: 0.3800 - accuracy: 0.8320 - val_loss: 0.3569 - val_accuracy: 0.8510\n",
            "Epoch 3/10\n",
            "391/391 [==============================] - 49s 124ms/step - loss: 0.3369 - accuracy: 0.8555 - val_loss: 0.3310 - val_accuracy: 0.8547\n",
            "Epoch 4/10\n",
            "391/391 [==============================] - 49s 124ms/step - loss: 0.3180 - accuracy: 0.8636 - val_loss: 0.3257 - val_accuracy: 0.8609\n",
            "Epoch 5/10\n",
            "391/391 [==============================] - 48s 122ms/step - loss: 0.3112 - accuracy: 0.8667 - val_loss: 0.3270 - val_accuracy: 0.8604\n",
            "Epoch 6/10\n",
            "391/391 [==============================] - 49s 124ms/step - loss: 0.3060 - accuracy: 0.8684 - val_loss: 0.3221 - val_accuracy: 0.8474\n",
            "Epoch 7/10\n",
            "391/391 [==============================] - 47s 121ms/step - loss: 0.3029 - accuracy: 0.8695 - val_loss: 0.3186 - val_accuracy: 0.8594\n",
            "Epoch 8/10\n",
            "391/391 [==============================] - 48s 122ms/step - loss: 0.2998 - accuracy: 0.8709 - val_loss: 0.3237 - val_accuracy: 0.8667\n",
            "Epoch 9/10\n",
            "391/391 [==============================] - 49s 124ms/step - loss: 0.2935 - accuracy: 0.8740 - val_loss: 0.3184 - val_accuracy: 0.8490\n",
            "Epoch 10/10\n",
            "391/391 [==============================] - 48s 121ms/step - loss: 0.2948 - accuracy: 0.8749 - val_loss: 0.3201 - val_accuracy: 0.8620\n"
          ]
        }
      ],
      "source": [
        "history = model.fit(train_dataset, epochs=10,\n",
        "                    validation_data=test_dataset,\n",
        "                    validation_steps=30)"
      ]
    },
    {
      "cell_type": "code",
      "execution_count": null,
      "metadata": {
        "colab": {
          "base_uri": "https://localhost:8080/"
        },
        "id": "_LdwilM1qPM3",
        "outputId": "b49ca08e-1eef-4078-90a5-48260c211b98"
      },
      "outputs": [
        {
          "name": "stdout",
          "output_type": "stream",
          "text": [
            "391/391 [==============================] - 20s 51ms/step - loss: 0.3193 - accuracy: 0.8590\n",
            "Test Loss: 0.31925299763679504\n",
            "Test Accuracy: 0.859000027179718\n"
          ]
        }
      ],
      "source": [
        "test_loss, test_acc = model.evaluate(test_dataset)\n",
        "\n",
        "print('Test Loss:', test_loss)\n",
        "print('Test Accuracy:', test_acc)"
      ]
    },
    {
      "cell_type": "code",
      "execution_count": null,
      "metadata": {
        "colab": {
          "base_uri": "https://localhost:8080/"
        },
        "id": "ykUKnAoqbycW",
        "outputId": "ede80885-c1ce-4f8c-ecb4-b3751f19ec01"
      },
      "outputs": [
        {
          "name": "stdout",
          "output_type": "stream",
          "text": [
            "1/1 [==============================] - 4s 4s/step\n",
            "[[-1.7769774]]\n"
          ]
        }
      ],
      "source": [
        "# predict on a sample text without padding.\n",
        "\n",
        "sample_text = ('The movie was not good. The animation and the graphics '\n",
        "               'were terrible. I would not recommend this movie.')\n",
        "predictions = model.predict(np.array([sample_text]))\n",
        "print(predictions)"
      ]
    },
    {
      "cell_type": "code",
      "execution_count": null,
      "metadata": {
        "colab": {
          "base_uri": "https://localhost:8080/",
          "height": 357
        },
        "id": "_YYub0EDtwCu",
        "outputId": "9b964219-1f85-40c2-8d72-dcea57c700cd"
      },
      "outputs": [
        {
          "data": {
            "image/png": "[encoded data removed]",
            "text/plain": [
              "<Figure size 1600x600 with 2 Axes>"
            ]
          },
          "metadata": {},
          "output_type": "display_data"
        }
      ],
      "source": [
        "plt.figure(figsize=(16, 6))\n",
        "plt.subplot(1, 2, 1)\n",
        "plot_graphs(history, 'accuracy')\n",
        "plt.subplot(1, 2, 2)\n",
        "plot_graphs(history, 'loss')"
      ]
    },
    {
      "cell_type": "markdown",
      "metadata": {
        "id": "--7pSmkU1lop"
      },
      "source": [
        "## **PART 2**"
      ]
    },
    {
      "cell_type": "markdown",
      "metadata": {
        "id": "mc61kdVw1lo4"
      },
      "source": [
        "### **Part 2**\n",
        "\n",
        "**2.1 &emsp;Improve the solution for IMDB sentiment analysis**\n",
        "<br>\n",
        "\n",
        " >  Write code to produce an additional solution to the movie review problem that outperform the two solutions provided above, i.e, have a higher test accuracy.\n",
        "\n",
        "*You can use a (combination of) different architecture, dropout and/or other regularization strategies, hyperparameter optimizations, masking, pretrained embeddings, or any other acceptable \"trick\" in the deep learning world.*\n",
        "\n",
        "<br><br>\n",
        " **2.2 &emsp; Summary Table\n",
        " (Example, manually generated)**\n",
        "\n",
        "You can use the table below to show a summary of the experimental results. **Replace the Test Accuracy values and other contents with your own!**\n",
        "\n",
        "| Method | Test Accuracy | Remarks |\n",
        "| --- | --- | --- |\n",
        "| First model | 0.856 | Baseline |\n",
        "| Second model (LSTM) | 0.859 | Slightly worse than baseline |\n",
        "| *Improved* model / variation of your choice | 0.915 | Best overall |\n",
        "\n",
        "\n",
        "\n"
      ]
    },
    {
      "cell_type": "markdown",
      "metadata": {
        "id": "CovH39sU1lo4"
      },
      "source": [
        "#### **Part 2**   *(responses & code)*"
      ]
    },
    {
      "cell_type": "markdown",
      "metadata": {
        "id": "XWwPr1AL1lo4"
      },
      "source": [
        "##### **2.1 Improve the solution for IMDB sentiment analysis**\n",
        "\n",
        " Write code to produce an additional solution to the movie review problem that outperform the two solutions provided above, i.e, have a higher test accuracy."
      ]
    },
    {
      "cell_type": "markdown",
      "metadata": {
        "id": "gnUjFV-W1lo5"
      },
      "source": [
        "###### **2.1.1 Your solution**&emsp;<font color='red'>*Additional layer with hyperparameter tuning*</font > [40 points]"
      ]
    },
    {
      "cell_type": "code",
      "execution_count": null,
      "metadata": {
        "id": "wiDapk_Q5RA_"
      },
      "outputs": [],
      "source": [
        "# Constants\n",
        "OUTPUT_DIM_new = 64  # Embedding output dimensions\n",
        "HIDDEN_DIM_new = 64  # LSTM output dimensions\n",
        "DROPOUT_RATE_new = 0.5  # Dropout rate"
      ]
    },
    {
      "cell_type": "code",
      "execution_count": null,
      "metadata": {
        "colab": {
          "base_uri": "https://localhost:8080/",
          "height": 868
        },
        "id": "_xgmavqR1lo5",
        "outputId": "f401e6b6-06d3-4b8f-e3cd-ba358dfc15b2"
      },
      "outputs": [
        {
          "name": "stdout",
          "output_type": "stream",
          "text": [
            "Epoch 1/10\n",
            "391/391 [==============================] - 127s 243ms/step - loss: 0.6123 - accuracy: 0.6123 - val_loss: 0.4457 - val_accuracy: 0.7969\n",
            "Epoch 2/10\n",
            "391/391 [==============================] - 73s 185ms/step - loss: 0.3884 - accuracy: 0.8282 - val_loss: 0.3528 - val_accuracy: 0.8292\n",
            "Epoch 3/10\n",
            "391/391 [==============================] - 72s 184ms/step - loss: 0.3474 - accuracy: 0.8493 - val_loss: 0.3361 - val_accuracy: 0.8438\n",
            "Epoch 4/10\n",
            "391/391 [==============================] - 71s 182ms/step - loss: 0.3234 - accuracy: 0.8612 - val_loss: 0.3257 - val_accuracy: 0.8547\n",
            "Epoch 5/10\n",
            "391/391 [==============================] - 71s 182ms/step - loss: 0.3130 - accuracy: 0.8661 - val_loss: 0.3236 - val_accuracy: 0.8490\n",
            "Epoch 6/10\n",
            "391/391 [==============================] - 71s 182ms/step - loss: 0.3085 - accuracy: 0.8675 - val_loss: 0.3155 - val_accuracy: 0.8557\n",
            "Epoch 7/10\n",
            "391/391 [==============================] - 74s 189ms/step - loss: 0.3094 - accuracy: 0.8696 - val_loss: 0.3259 - val_accuracy: 0.8479\n",
            "Epoch 8/10\n",
            "391/391 [==============================] - 71s 181ms/step - loss: 0.3025 - accuracy: 0.8716 - val_loss: 0.3178 - val_accuracy: 0.8604\n",
            "Epoch 9/10\n",
            "391/391 [==============================] - 72s 184ms/step - loss: 0.2998 - accuracy: 0.8714 - val_loss: 0.3293 - val_accuracy: 0.8443\n",
            "Epoch 10/10\n",
            "391/391 [==============================] - 74s 188ms/step - loss: 0.2968 - accuracy: 0.8740 - val_loss: 0.3297 - val_accuracy: 0.8641\n",
            "391/391 [==============================] - 32s 81ms/step - loss: 0.3302 - accuracy: 0.8638\n",
            "Test Loss: 0.3302066922187805\n",
            "Test Accuracy: 0.8638399839401245\n"
          ]
        },
        {
          "data": {
            "image/png": "[encoded data removed]",
            "text/plain": [
              "<Figure size 1600x800 with 2 Axes>"
            ]
          },
          "metadata": {},
          "output_type": "display_data"
        }
      ],
      "source": [
        "# Model architecture\n",
        "model_new = tf.keras.Sequential([\n",
        "    encoder,\n",
        "    tf.keras.layers.Embedding(input_dim=len(encoder.get_vocabulary()),\n",
        "                              output_dim=OUTPUT_DIM_new,\n",
        "                              mask_zero=True),\n",
        "    tf.keras.layers.Bidirectional(tf.keras.layers.LSTM(HIDDEN_DIM_new, return_sequences=True)),\n",
        "    tf.keras.layers.Bidirectional(tf.keras.layers.LSTM(HIDDEN_DIM_new // 2, return_sequences=True)),  # Additional LSTM layer\n",
        "    tf.keras.layers.Bidirectional(tf.keras.layers.LSTM(HIDDEN_DIM_new // 4)),\n",
        "    tf.keras.layers.Dense(HIDDEN_DIM_new, activation='relu'),\n",
        "    tf.keras.layers.Dropout(DROPOUT_RATE_new),\n",
        "    tf.keras.layers.Dense(HIDDEN_DIM_new // 2, activation='relu'),\n",
        "    tf.keras.layers.Dense(1)\n",
        "])\n",
        "\n",
        "# Compile model\n",
        "model_new.compile(loss=tf.keras.losses.BinaryCrossentropy(from_logits=True),\n",
        "              optimizer=tf.keras.optimizers.Adam(1e-4),\n",
        "              metrics=['accuracy'])\n",
        "\n",
        "# Train model\n",
        "history_new = model_new.fit(train_dataset, epochs=10,\n",
        "                    validation_data=test_dataset,\n",
        "                    validation_steps=30)\n",
        "\n",
        "# Evaluate model\n",
        "test_loss_new, test_acc_new = model_new.evaluate(test_dataset)\n",
        "print('Test Loss:', test_loss_new)\n",
        "print('Test Accuracy:', test_acc_new)\n",
        "\n",
        "# Plot graphs\n",
        "plt.figure(figsize=(16, 8))\n",
        "plt.subplot(1, 2, 1)\n",
        "plot_graphs(history_new, 'accuracy')\n",
        "plt.subplot(1, 2, 2)\n",
        "plot_graphs(history_new, 'loss')\n"
      ]
    },
    {
      "cell_type": "markdown",
      "metadata": {
        "id": "T7cEVppf1lo8"
      },
      "source": [
        "##### **2.2 Summary Table**\n",
        "\n",
        " **Replace the Test Accuracy values and other contents with your own!**<br>\n",
        " *(double click to modify the table based on your results)*\n",
        "\n",
        "\n",
        "| Method | Test Accuracy | Remarks |\n",
        "| --- | --- | --- |\n",
        "| First model | 0.856 | Baseline |\n",
        "| Second model (LSTM) | 0.851 | Slightly worse than baseline |\n",
        "| *Improved* model with higher complexity | 0.863 | Best overall |"
      ]
    },
    {
      "cell_type": "markdown",
      "metadata": {
        "id": "fC1B01BCE7OJ"
      },
      "source": [
        "## **Part 3: NLP using Transformers**\n",
        "\n",
        "In Part 3 we will look at the Transformer architecture and how it can be used in a specific NLP task, machine translation (from English to Spanish).\n",
        "\n",
        "Please refer to Chapter 11 of [our textbook](https://learning.oreilly.com/library/view/deep-learning-with/9781617296864) for additional information.\n"
      ]
    },
    {
      "cell_type": "markdown",
      "metadata": {
        "id": "ITYmXB88E7Oa"
      },
      "source": [
        "**Useful sources and references for Part 3:**\n",
        "\n",
        "- https://colab.research.google.com/github/fchollet/deep-learning-with-python-notebooks/blob/master/chapter11_part03_transformer.ipynb\n",
        "- https://colab.research.google.com/github/fchollet/deep-learning-with-python-notebooks/blob/master/chapter11_part04_sequence-to-sequence-learning.ipynb\n"
      ]
    },
    {
      "cell_type": "markdown",
      "metadata": {
        "id": "6IwBooqWFQGb"
      },
      "source": [
        "### **Setup**"
      ]
    },
    {
      "cell_type": "code",
      "execution_count": null,
      "metadata": {
        "colab": {
          "base_uri": "https://localhost:8080/"
        },
        "id": "-uEVqAmHFQGb",
        "outputId": "cce5b9ba-437d-46ac-da7a-61148a366a0e"
      },
      "outputs": [
        {
          "name": "stdout",
          "output_type": "stream",
          "text": [
            "--2023-07-18 23:44:27--  http://storage.googleapis.com/download.tensorflow.org/data/spa-eng.zip\n",
            "Resolving storage.googleapis.com (storage.googleapis.com)... 142.250.101.128, 142.250.141.128, 74.125.137.128, ...\n",
            "Connecting to storage.googleapis.com (storage.googleapis.com)|142.250.101.128|:80... connected.\n",
            "HTTP request sent, awaiting response... 200 OK\n",
            "Length: 2638744 (2.5M) [application/zip]\n",
            "Saving to: ‘spa-eng.zip’\n",
            "\n",
            "\rspa-eng.zip           0%[                    ]       0  --.-KB/s               \rspa-eng.zip         100%[===================>]   2.52M  --.-KB/s    in 0.009s  \n",
            "\n",
            "2023-07-18 23:44:27 (274 MB/s) - ‘spa-eng.zip’ saved [2638744/2638744]\n",
            "\n"
          ]
        }
      ],
      "source": [
        "!wget http://storage.googleapis.com/download.tensorflow.org/data/spa-eng.zip\n",
        "!unzip -q spa-eng.zip"
      ]
    },
    {
      "cell_type": "code",
      "execution_count": null,
      "metadata": {
        "id": "eOLIZ9ZtFQGc"
      },
      "outputs": [],
      "source": [
        "text_file = \"spa-eng/spa.txt\"\n",
        "with open(text_file) as f:\n",
        "    lines = f.read().split(\"\\n\")[:-1]\n",
        "text_pairs = []\n",
        "for line in lines:\n",
        "    english, spanish = line.split(\"\\t\")\n",
        "    spanish = \"[start] \" + spanish + \" [end]\"\n",
        "    text_pairs.append((english, spanish))"
      ]
    },
    {
      "cell_type": "code",
      "execution_count": null,
      "metadata": {
        "colab": {
          "base_uri": "https://localhost:8080/"
        },
        "id": "LvcrsLQhFQGc",
        "outputId": "6b3880bc-7b44-4aed-83e1-9e17f9d715fc"
      },
      "outputs": [
        {
          "name": "stdout",
          "output_type": "stream",
          "text": [
            "(\"Don't phone me when I'm at the office.\", '[start] No me telefonees cuando estoy en la oficina. [end]')\n"
          ]
        }
      ],
      "source": [
        "import random\n",
        "print(random.choice(text_pairs))"
      ]
    },
    {
      "cell_type": "code",
      "execution_count": null,
      "metadata": {
        "id": "sgx4dI1OFQGc"
      },
      "outputs": [],
      "source": [
        "import random\n",
        "random.shuffle(text_pairs)\n",
        "num_val_samples = int(0.15 * len(text_pairs))\n",
        "num_train_samples = len(text_pairs) - 2 * num_val_samples\n",
        "train_pairs = text_pairs[:num_train_samples]\n",
        "val_pairs = text_pairs[num_train_samples:num_train_samples + num_val_samples]\n",
        "test_pairs = text_pairs[num_train_samples + num_val_samples:]"
      ]
    },
    {
      "cell_type": "markdown",
      "metadata": {
        "id": "p3a4eNBeFQGd"
      },
      "source": [
        "**Vectorizing the English and Spanish text pairs**"
      ]
    },
    {
      "cell_type": "code",
      "execution_count": null,
      "metadata": {
        "id": "5eQ6EdPZFQGd"
      },
      "outputs": [],
      "source": [
        "import tensorflow as tf\n",
        "import string\n",
        "import re\n",
        "\n",
        "from tensorflow import keras\n",
        "from tensorflow.keras import layers\n",
        "\n",
        "strip_chars = string.punctuation + \"¿\"\n",
        "strip_chars = strip_chars.replace(\"[\", \"\")\n",
        "strip_chars = strip_chars.replace(\"]\", \"\")\n",
        "\n",
        "def custom_standardization(input_string):\n",
        "    lowercase = tf.strings.lower(input_string)\n",
        "    return tf.strings.regex_replace(\n",
        "        lowercase, f\"[{re.escape(strip_chars)}]\", \"\")\n",
        "\n",
        "vocab_size = 15000\n",
        "sequence_length = 20\n",
        "\n",
        "source_vectorization = layers.TextVectorization(\n",
        "    max_tokens=vocab_size,\n",
        "    output_mode=\"int\",\n",
        "    output_sequence_length=sequence_length,\n",
        ")\n",
        "target_vectorization = layers.TextVectorization(\n",
        "    max_tokens=vocab_size,\n",
        "    output_mode=\"int\",\n",
        "    output_sequence_length=sequence_length + 1,\n",
        "    standardize=custom_standardization,\n",
        ")\n",
        "train_english_texts = [pair[0] for pair in train_pairs]\n",
        "train_spanish_texts = [pair[1] for pair in train_pairs]\n",
        "source_vectorization.adapt(train_english_texts)\n",
        "target_vectorization.adapt(train_spanish_texts)"
      ]
    },
    {
      "cell_type": "markdown",
      "metadata": {
        "id": "I8FSpt8VFQGe"
      },
      "source": [
        "**Preparing datasets for the translation task**"
      ]
    },
    {
      "cell_type": "code",
      "execution_count": null,
      "metadata": {
        "id": "LUs8N_zjFQGe"
      },
      "outputs": [],
      "source": [
        "batch_size = 64\n",
        "\n",
        "def format_dataset(eng, spa):\n",
        "    eng = source_vectorization(eng)\n",
        "    spa = target_vectorization(spa)\n",
        "    return ({\n",
        "        \"english\": eng,\n",
        "        \"spanish\": spa[:, :-1],\n",
        "    }, spa[:, 1:])\n",
        "\n",
        "def make_dataset(pairs):\n",
        "    eng_texts, spa_texts = zip(*pairs)\n",
        "    eng_texts = list(eng_texts)\n",
        "    spa_texts = list(spa_texts)\n",
        "    dataset = tf.data.Dataset.from_tensor_slices((eng_texts, spa_texts))\n",
        "    dataset = dataset.batch(batch_size)\n",
        "    dataset = dataset.map(format_dataset, num_parallel_calls=4)\n",
        "    return dataset.shuffle(2048).prefetch(16).cache()\n",
        "\n",
        "train_ds = make_dataset(train_pairs)\n",
        "val_ds = make_dataset(val_pairs)"
      ]
    },
    {
      "cell_type": "code",
      "execution_count": null,
      "metadata": {
        "colab": {
          "base_uri": "https://localhost:8080/"
        },
        "id": "caWA_b2BFQGe",
        "outputId": "23758e49-a1b6-4c67-edfe-2d4eff6eb4a2"
      },
      "outputs": [
        {
          "name": "stdout",
          "output_type": "stream",
          "text": [
            "inputs['english'].shape: (64, 20)\n",
            "inputs['spanish'].shape: (64, 20)\n",
            "targets.shape: (64, 20)\n"
          ]
        }
      ],
      "source": [
        "for inputs, targets in train_ds.take(1):\n",
        "    print(f\"inputs['english'].shape: {inputs['english'].shape}\")\n",
        "    print(f\"inputs['spanish'].shape: {inputs['spanish'].shape}\")\n",
        "    print(f\"targets.shape: {targets.shape}\")"
      ]
    },
    {
      "cell_type": "markdown",
      "metadata": {
        "id": "BL1QeLMLEznr"
      },
      "source": [
        "### **The Transformer encoder**"
      ]
    },
    {
      "cell_type": "code",
      "execution_count": null,
      "metadata": {
        "id": "CTQRyZTKEznt"
      },
      "outputs": [],
      "source": [
        "import tensorflow as tf\n",
        "from tensorflow import keras\n",
        "from tensorflow.keras import layers\n",
        "\n",
        "class TransformerEncoder(layers.Layer):\n",
        "    def __init__(self, embed_dim, dense_dim, num_heads, **kwargs):\n",
        "        super().__init__(**kwargs)\n",
        "        self.embed_dim = embed_dim\n",
        "        self.dense_dim = dense_dim\n",
        "        self.num_heads = num_heads\n",
        "        self.attention = layers.MultiHeadAttention(\n",
        "            num_heads=num_heads, key_dim=embed_dim)\n",
        "        self.dense_proj = keras.Sequential(\n",
        "            [layers.Dense(dense_dim, activation=\"relu\"),\n",
        "             layers.Dense(embed_dim),]\n",
        "        )\n",
        "        self.layernorm_1 = layers.LayerNormalization()\n",
        "        self.layernorm_2 = layers.LayerNormalization()\n",
        "\n",
        "    def call(self, inputs, mask=None):\n",
        "        if mask is not None:\n",
        "            mask = mask[:, tf.newaxis, :]\n",
        "        attention_output = self.attention(\n",
        "            inputs, inputs, attention_mask=mask)\n",
        "        proj_input = self.layernorm_1(inputs + attention_output)\n",
        "        proj_output = self.dense_proj(proj_input)\n",
        "        return self.layernorm_2(proj_input + proj_output)\n",
        "\n",
        "    def get_config(self):\n",
        "        config = super().get_config()\n",
        "        config.update({\n",
        "            \"embed_dim\": self.embed_dim,\n",
        "            \"num_heads\": self.num_heads,\n",
        "            \"dense_dim\": self.dense_dim,\n",
        "        })\n",
        "        return config"
      ]
    },
    {
      "cell_type": "markdown",
      "metadata": {
        "id": "xIPjMfSSFQGg"
      },
      "source": [
        "### **The Transformer decoder**"
      ]
    },
    {
      "cell_type": "code",
      "execution_count": null,
      "metadata": {
        "id": "UvZV_l5QFQGg"
      },
      "outputs": [],
      "source": [
        "class TransformerDecoder(layers.Layer):\n",
        "    def __init__(self, embed_dim, dense_dim, num_heads, **kwargs):\n",
        "        super().__init__(**kwargs)\n",
        "        self.embed_dim = embed_dim\n",
        "        self.dense_dim = dense_dim\n",
        "        self.num_heads = num_heads\n",
        "        self.attention_1 = layers.MultiHeadAttention(\n",
        "            num_heads=num_heads, key_dim=embed_dim)\n",
        "        self.attention_2 = layers.MultiHeadAttention(\n",
        "            num_heads=num_heads, key_dim=embed_dim)\n",
        "        self.dense_proj = keras.Sequential(\n",
        "            [layers.Dense(dense_dim, activation=\"relu\"),\n",
        "             layers.Dense(embed_dim),]\n",
        "        )\n",
        "        self.layernorm_1 = layers.LayerNormalization()\n",
        "        self.layernorm_2 = layers.LayerNormalization()\n",
        "        self.layernorm_3 = layers.LayerNormalization()\n",
        "        self.supports_masking = True\n",
        "\n",
        "    def get_config(self):\n",
        "        config = super().get_config()\n",
        "        config.update({\n",
        "            \"embed_dim\": self.embed_dim,\n",
        "            \"num_heads\": self.num_heads,\n",
        "            \"dense_dim\": self.dense_dim,\n",
        "        })\n",
        "        return config\n",
        "\n",
        "    def get_causal_attention_mask(self, inputs):\n",
        "        input_shape = tf.shape(inputs)\n",
        "        batch_size, sequence_length = input_shape[0], input_shape[1]\n",
        "        i = tf.range(sequence_length)[:, tf.newaxis]\n",
        "        j = tf.range(sequence_length)\n",
        "        mask = tf.cast(i >= j, dtype=\"int32\")\n",
        "        mask = tf.reshape(mask, (1, input_shape[1], input_shape[1]))\n",
        "        mult = tf.concat(\n",
        "            [tf.expand_dims(batch_size, -1),\n",
        "             tf.constant([1, 1], dtype=tf.int32)], axis=0)\n",
        "        return tf.tile(mask, mult)\n",
        "\n",
        "    def call(self, inputs, encoder_outputs, mask=None):\n",
        "        causal_mask = self.get_causal_attention_mask(inputs)\n",
        "        if mask is not None:\n",
        "            padding_mask = tf.cast(\n",
        "                mask[:, tf.newaxis, :], dtype=\"int32\")\n",
        "            padding_mask = tf.minimum(padding_mask, causal_mask)\n",
        "        attention_output_1 = self.attention_1(\n",
        "            query=inputs,\n",
        "            value=inputs,\n",
        "            key=inputs,\n",
        "            attention_mask=causal_mask)\n",
        "        attention_output_1 = self.layernorm_1(inputs + attention_output_1)\n",
        "        attention_output_2 = self.attention_2(\n",
        "            query=attention_output_1,\n",
        "            value=encoder_outputs,\n",
        "            key=encoder_outputs,\n",
        "            attention_mask=padding_mask,\n",
        "        )\n",
        "        attention_output_2 = self.layernorm_2(\n",
        "            attention_output_1 + attention_output_2)\n",
        "        proj_output = self.dense_proj(attention_output_2)\n",
        "        return self.layernorm_3(attention_output_2 + proj_output)"
      ]
    },
    {
      "cell_type": "markdown",
      "metadata": {
        "id": "YnebEA1XFQGg"
      },
      "source": [
        "### Putting it all together: A Transformer for machine translation"
      ]
    },
    {
      "cell_type": "markdown",
      "metadata": {
        "id": "PkPhTo11FQGg"
      },
      "source": [
        "**PositionalEmbedding layer**"
      ]
    },
    {
      "cell_type": "code",
      "execution_count": null,
      "metadata": {
        "id": "farM4iYXFQGg"
      },
      "outputs": [],
      "source": [
        "class PositionalEmbedding(layers.Layer):\n",
        "    def __init__(self, sequence_length, input_dim, output_dim, **kwargs):\n",
        "        super().__init__(**kwargs)\n",
        "        self.token_embeddings = layers.Embedding(\n",
        "            input_dim=input_dim, output_dim=output_dim)\n",
        "        self.position_embeddings = layers.Embedding(\n",
        "            input_dim=sequence_length, output_dim=output_dim)\n",
        "        self.sequence_length = sequence_length\n",
        "        self.input_dim = input_dim\n",
        "        self.output_dim = output_dim\n",
        "\n",
        "    def call(self, inputs):\n",
        "        length = tf.shape(inputs)[-1]\n",
        "        positions = tf.range(start=0, limit=length, delta=1)\n",
        "        embedded_tokens = self.token_embeddings(inputs)\n",
        "        embedded_positions = self.position_embeddings(positions)\n",
        "        return embedded_tokens + embedded_positions\n",
        "\n",
        "    def compute_mask(self, inputs, mask=None):\n",
        "        return tf.math.not_equal(inputs, 0)\n",
        "\n",
        "    def get_config(self):\n",
        "        config = super(PositionalEmbedding, self).get_config()\n",
        "        config.update({\n",
        "            \"output_dim\": self.output_dim,\n",
        "            \"sequence_length\": self.sequence_length,\n",
        "            \"input_dim\": self.input_dim,\n",
        "        })\n",
        "        return config"
      ]
    },
    {
      "cell_type": "markdown",
      "metadata": {
        "id": "yvRcD-XAFQGh"
      },
      "source": [
        "**End-to-end Transformer**"
      ]
    },
    {
      "cell_type": "code",
      "execution_count": null,
      "metadata": {
        "id": "JaZQjjcYFQGh"
      },
      "outputs": [],
      "source": [
        "embed_dim = 256\n",
        "dense_dim = 2048\n",
        "num_heads = 8\n",
        "\n",
        "encoder_inputs = keras.Input(shape=(None,), dtype=\"int64\", name=\"english\")\n",
        "x = PositionalEmbedding(sequence_length, vocab_size, embed_dim)(encoder_inputs)\n",
        "encoder_outputs = TransformerEncoder(embed_dim, dense_dim, num_heads)(x)\n",
        "\n",
        "decoder_inputs = keras.Input(shape=(None,), dtype=\"int64\", name=\"spanish\")\n",
        "x = PositionalEmbedding(sequence_length, vocab_size, embed_dim)(decoder_inputs)\n",
        "x = TransformerDecoder(embed_dim, dense_dim, num_heads)(x, encoder_outputs)\n",
        "x = layers.Dropout(0.5)(x)\n",
        "decoder_outputs = layers.Dense(vocab_size, activation=\"softmax\")(x)\n",
        "transformer = keras.Model([encoder_inputs, decoder_inputs], decoder_outputs)"
      ]
    },
    {
      "cell_type": "markdown",
      "metadata": {
        "id": "trkoQ4TVFQGh"
      },
      "source": [
        "**Training the sequence-to-sequence Transformer**"
      ]
    },
    {
      "cell_type": "code",
      "execution_count": null,
      "metadata": {
        "colab": {
          "base_uri": "https://localhost:8080/"
        },
        "id": "m564inrUFQGh",
        "outputId": "d859ccef-d3e0-4ac7-8a35-8af22c330aad"
      },
      "outputs": [
        {
          "name": "stdout",
          "output_type": "stream",
          "text": [
            "Epoch 1/10\n",
            "1302/1302 [==============================] - 113s 80ms/step - loss: 3.7972 - accuracy: 0.4404 - val_loss: 2.8754 - val_accuracy: 0.5375\n",
            "Epoch 2/10\n",
            "1302/1302 [==============================] - 86s 66ms/step - loss: 2.8488 - accuracy: 0.5500 - val_loss: 2.5041 - val_accuracy: 0.5932\n",
            "Epoch 3/10\n",
            "1302/1302 [==============================] - 85s 65ms/step - loss: 2.5541 - accuracy: 0.5937 - val_loss: 2.4254 - val_accuracy: 0.6104\n",
            "Epoch 4/10\n",
            "1302/1302 [==============================] - 85s 65ms/step - loss: 2.3916 - accuracy: 0.6201 - val_loss: 2.3830 - val_accuracy: 0.6186\n",
            "Epoch 5/10\n",
            "1302/1302 [==============================] - 86s 66ms/step - loss: 2.2883 - accuracy: 0.6380 - val_loss: 2.3144 - val_accuracy: 0.6321\n",
            "Epoch 6/10\n",
            "1302/1302 [==============================] - 87s 67ms/step - loss: 2.2185 - accuracy: 0.6507 - val_loss: 2.3157 - val_accuracy: 0.6346\n",
            "Epoch 7/10\n",
            "1302/1302 [==============================] - 87s 67ms/step - loss: 2.1612 - accuracy: 0.6629 - val_loss: 2.2948 - val_accuracy: 0.6439\n",
            "Epoch 8/10\n",
            "1302/1302 [==============================] - 87s 67ms/step - loss: 2.0958 - accuracy: 0.6753 - val_loss: 2.2529 - val_accuracy: 0.6499\n",
            "Epoch 9/10\n",
            "1302/1302 [==============================] - 88s 67ms/step - loss: 2.0359 - accuracy: 0.6864 - val_loss: 2.2523 - val_accuracy: 0.6538\n",
            "Epoch 10/10\n",
            "1302/1302 [==============================] - 87s 67ms/step - loss: 1.9886 - accuracy: 0.6954 - val_loss: 2.2106 - val_accuracy: 0.6637\n"
          ]
        },
        {
          "data": {
            "text/plain": [
              "<keras.callbacks.History at 0x7c29acee6080>"
            ]
          },
          "execution_count": 102,
          "metadata": {},
          "output_type": "execute_result"
        }
      ],
      "source": [
        "transformer.compile(\n",
        "    optimizer=\"rmsprop\",\n",
        "    loss=\"sparse_categorical_crossentropy\",\n",
        "    metrics=[\"accuracy\"])\n",
        "transformer.fit(train_ds, epochs=10, validation_data=val_ds)"
      ]
    },
    {
      "cell_type": "markdown",
      "metadata": {
        "id": "UNa1godRFQGh"
      },
      "source": [
        "**Translating new sentences with our Transformer model**"
      ]
    },
    {
      "cell_type": "code",
      "execution_count": null,
      "metadata": {
        "colab": {
          "base_uri": "https://localhost:8080/"
        },
        "id": "9gAvOuwtFQGh",
        "outputId": "ca43be99-b66e-4c4d-e188-0b35c3312d17"
      },
      "outputs": [
        {
          "name": "stdout",
          "output_type": "stream",
          "text": [
            "-\n",
            "Tom's suitcase is missing.\n",
            "[start] tom está tratando de la dirección de tom [end]\n",
            "-\n",
            "Don't carry more money than you need.\n",
            "[start] no te [UNK] más dinero de lo necesita [end]\n",
            "-\n",
            "I didn't even know Tom had a girlfriend.\n",
            "[start] no sabía que tom ni a tom [end]\n",
            "-\n",
            "We're having a problem with pigeons.\n",
            "[start] estamos [UNK] con un problema [end]\n",
            "-\n",
            "I like your plan.\n",
            "[start] me gusta tu plan [end]\n",
            "-\n",
            "You've got me.\n",
            "[start] me [UNK] [end]\n",
            "-\n",
            "I assure you that an error like this will never happen again.\n",
            "[start] te dije que este cambio de ese trabajo no nos [UNK] otra vez [end]\n",
            "-\n",
            "Where did you buy that book?\n",
            "[start] dónde compraste ese libro [end]\n",
            "-\n",
            "We're not eating.\n",
            "[start] no estamos comiendo [end]\n",
            "-\n",
            "What kind of ranch did you grow up on?\n",
            "[start] qué clase de [UNK] se [UNK] en el otro [end]\n",
            "-\n",
            "I couldn't bear to look at her.\n",
            "[start] no podía soportar soportar a ella [end]\n",
            "-\n",
            "You are both in the wrong.\n",
            "[start] están [UNK] en el [UNK] [end]\n",
            "-\n",
            "Please turn on the radio.\n",
            "[start] por favor [UNK] la radio [end]\n",
            "-\n",
            "Can I take it home?\n",
            "[start] puedo llevar a casa [end]\n",
            "-\n",
            "Have you ever read any Chinese poems?\n",
            "[start] alguna vez has leído algún china [end]\n",
            "-\n",
            "I challenged him to a game.\n",
            "[start] lo [UNK] a él a él le gusta ir [end]\n",
            "-\n",
            "Tom knows my number.\n",
            "[start] tom sabe mi número [end]\n",
            "-\n",
            "I got sunburned.\n",
            "[start] me [UNK] [end]\n",
            "-\n",
            "My students have been eagerly awaiting the test results.\n",
            "[start] mis estudiantes han sido [UNK] para el examen [end]\n",
            "-\n",
            "What don't we know?\n",
            "[start] qué no lo sabes [end]\n"
          ]
        }
      ],
      "source": [
        "import numpy as np\n",
        "spa_vocab = target_vectorization.get_vocabulary()\n",
        "spa_index_lookup = dict(zip(range(len(spa_vocab)), spa_vocab))\n",
        "max_decoded_sentence_length = 20\n",
        "\n",
        "def decode_sequence(input_sentence):\n",
        "    tokenized_input_sentence = source_vectorization([input_sentence])\n",
        "    decoded_sentence = \"[start]\"\n",
        "    for i in range(max_decoded_sentence_length):\n",
        "        tokenized_target_sentence = target_vectorization(\n",
        "            [decoded_sentence])[:, :-1]\n",
        "        predictions = transformer(\n",
        "            [tokenized_input_sentence, tokenized_target_sentence])\n",
        "        sampled_token_index = np.argmax(predictions[0, i, :])\n",
        "        sampled_token = spa_index_lookup[sampled_token_index]\n",
        "        decoded_sentence += \" \" + sampled_token\n",
        "        if sampled_token == \"[end]\":\n",
        "            break\n",
        "    return decoded_sentence\n",
        "\n",
        "test_eng_texts = [pair[0] for pair in test_pairs]\n",
        "for _ in range(20):\n",
        "    input_sentence = random.choice(test_eng_texts)\n",
        "    print(\"-\")\n",
        "    print(input_sentence)\n",
        "    print(decode_sequence(input_sentence))"
      ]
    },
    {
      "cell_type": "markdown",
      "metadata": {
        "id": "JRW8vUpsnhCO"
      },
      "source": [
        "## **Part 4: IMDB sentiment analysis using Transformers (OPTIONAL)** [15 points]\n",
        "\n",
        "In Part 4 you are encouraged to use a transformer model to solve the IMDB review sentiment analysis problem (with the same dataset as Part 2) and compare the results.\n"
      ]
    },
    {
      "cell_type": "markdown",
      "metadata": {
        "id": "SZjHveOun55v"
      },
      "source": [
        "##### **4.1 Your solution** &emsp;"
      ]
    },
    {
      "cell_type": "code",
      "execution_count": null,
      "metadata": {
        "colab": {
          "base_uri": "https://localhost:8080/"
        },
        "id": "hE1CR6Fzn558",
        "outputId": "6cc0b7a3-44ef-486d-b827-bc6f8c6ab2a5"
      },
      "outputs": [
        {
          "output_type": "stream",
          "name": "stdout",
          "text": [
            "Epoch 1/10\n",
            "782/782 [==============================] - 218s 273ms/step - loss: 0.4607 - accuracy: 0.7712 - val_loss: 0.3424 - val_accuracy: 0.8469\n",
            "Epoch 2/10\n",
            "782/782 [==============================] - 230s 294ms/step - loss: 0.3454 - accuracy: 0.8512 - val_loss: 0.3367 - val_accuracy: 0.8517\n",
            "Epoch 3/10\n",
            "782/782 [==============================] - 203s 259ms/step - loss: 0.3331 - accuracy: 0.8568 - val_loss: 0.3497 - val_accuracy: 0.8507\n",
            "Epoch 4/10\n",
            "782/782 [==============================] - 230s 294ms/step - loss: 0.3188 - accuracy: 0.8623 - val_loss: 0.3609 - val_accuracy: 0.8525\n",
            "Epoch 5/10\n",
            "782/782 [==============================] - 203s 259ms/step - loss: 0.3071 - accuracy: 0.8673 - val_loss: 0.3571 - val_accuracy: 0.8480\n",
            "Epoch 6/10\n",
            "782/782 [==============================] - 230s 295ms/step - loss: 0.2976 - accuracy: 0.8711 - val_loss: 0.3668 - val_accuracy: 0.8450\n",
            "Epoch 7/10\n",
            "782/782 [==============================] - 203s 259ms/step - loss: 0.2828 - accuracy: 0.8791 - val_loss: 0.3729 - val_accuracy: 0.8468\n",
            "Epoch 8/10\n",
            "782/782 [==============================] - 230s 294ms/step - loss: 0.2730 - accuracy: 0.8819 - val_loss: 0.3960 - val_accuracy: 0.8324\n",
            "Epoch 9/10\n",
            "782/782 [==============================] - 230s 294ms/step - loss: 0.2577 - accuracy: 0.8881 - val_loss: 0.4060 - val_accuracy: 0.8340\n",
            "Epoch 10/10\n",
            "782/782 [==============================] - 203s 259ms/step - loss: 0.2503 - accuracy: 0.8921 - val_loss: 0.4434 - val_accuracy: 0.8306\n"
          ]
        },
        {
          "output_type": "execute_result",
          "data": {
            "text/plain": [
              "<keras.callbacks.History at 0x78a5f6060250>"
            ]
          },
          "metadata": {},
          "execution_count": 4
        }
      ],
      "source": [
        "# Import necessary modules\n",
        "import tensorflow as tf\n",
        "import tensorflow_datasets as tfds\n",
        "from tensorflow.keras import layers\n",
        "\n",
        "# Load the dataset\n",
        "dataset, info = tfds.load('imdb_reviews', with_info=True, as_supervised=True)\n",
        "train_dataset, test_dataset = dataset['train'], dataset['test']\n",
        "\n",
        "# params\n",
        "SEQUENCE_LENGTH = 500\n",
        "VOCAB_SIZE = 1000 + 2\n",
        "embed_dim = 256\n",
        "dense_dim = 2048\n",
        "num_heads = 8\n",
        "\n",
        "encoder = tf.keras.layers.TextVectorization(\n",
        "    max_tokens=VOCAB_SIZE,\n",
        "    output_mode='int',\n",
        "    output_sequence_length=SEQUENCE_LENGTH)\n",
        "\n",
        "encoder.adapt(train_dataset.map(lambda text, label: text))\n",
        "\n",
        "class PositionalEmbedding(layers.Layer):\n",
        "    def __init__(self, sequence_length, vocab_size, embed_dim, **kwargs):\n",
        "        super(PositionalEmbedding, self).__init__(**kwargs)\n",
        "        self.token_embeddings = layers.Embedding(input_dim=vocab_size, output_dim=embed_dim)\n",
        "        self.position_embeddings = layers.Embedding(input_dim=sequence_length, output_dim=embed_dim)\n",
        "\n",
        "    def call(self, inputs):\n",
        "        length = tf.shape(inputs)[-1]\n",
        "        positions = tf.range(start=0, limit=length, delta=1)\n",
        "        embedded_tokens = self.token_embeddings(inputs)\n",
        "        embedded_positions = self.position_embeddings(positions)\n",
        "        return embedded_tokens + embedded_positions\n",
        "\n",
        "class TransformerEncoder(layers.Layer):\n",
        "    def __init__(self, embed_dim, dense_dim, num_heads, **kwargs):\n",
        "        super(TransformerEncoder, self).__init__(**kwargs)\n",
        "        self.attention = layers.MultiHeadAttention(num_heads=num_heads, key_dim=embed_dim)\n",
        "        self.dense_proj = tf.keras.Sequential([layers.Dense(dense_dim, activation=\"relu\"), layers.Dense(embed_dim),])\n",
        "        self.layernorm_1 = layers.LayerNormalization()\n",
        "        self.layernorm_2 = layers.LayerNormalization()\n",
        "\n",
        "    def call(self, inputs, mask=None):\n",
        "        if mask is not None:\n",
        "            mask = mask[:, tf.newaxis, :]\n",
        "        attention_output = self.attention(inputs, inputs, attention_mask=mask)\n",
        "        proj_input = self.layernorm_1(inputs + attention_output)\n",
        "        proj_output = self.dense_proj(proj_input)\n",
        "        return self.layernorm_2(proj_input + proj_output)\n",
        "\n",
        "class TransformerClassifier(tf.keras.Model):\n",
        "    def __init__(self, vocab_size, embed_dim, num_heads, dense_dim, sequence_length, **kwargs):\n",
        "        super(TransformerClassifier, self).__init__(**kwargs)\n",
        "        self.encoder = TransformerEncoder(embed_dim, dense_dim, num_heads)\n",
        "        self.embedding = PositionalEmbedding(sequence_length, vocab_size, embed_dim)\n",
        "        self.vectorize_layer = encoder\n",
        "        self.pooling = layers.GlobalAveragePooling1D()\n",
        "        self.classify = layers.Dense(1, activation='sigmoid')\n",
        "\n",
        "    def call(self, inputs):\n",
        "      x = self.vectorize_layer(inputs)\n",
        "      x = self.embedding(x)\n",
        "      x = self.encoder(x)\n",
        "      x = self.pooling(x)\n",
        "      return self.classify(x)\n",
        "\n",
        "# Build the model\n",
        "model4 = TransformerClassifier(VOCAB_SIZE, embed_dim, num_heads, dense_dim, SEQUENCE_LENGTH)\n",
        "\n",
        "# Compile the model\n",
        "model4.compile(loss='binary_crossentropy', optimizer='adam', metrics=['accuracy'])\n",
        "\n",
        "# Prepare the training dataset\n",
        "train_dataset = train_dataset.map(lambda text, label: (text, tf.expand_dims(label, -1))).batch(32)\n",
        "\n",
        "# Prepare the test dataset\n",
        "test_dataset = test_dataset.map(lambda text, label: (text, tf.expand_dims(label, -1))).batch(32)\n",
        "\n",
        "# Train the model\n",
        "model4.fit(train_dataset, epochs=10, validation_data=test_dataset)"
      ]
    },
    {
      "cell_type": "code",
      "execution_count": null,
      "metadata": {
        "id": "AeRNEzQQfYbv",
        "colab": {
          "base_uri": "https://localhost:8080/"
        },
        "outputId": "df255c14-2cac-4e26-d44c-32819971c25c"
      },
      "outputs": [
        {
          "output_type": "stream",
          "name": "stdout",
          "text": [
            "\n",
            "Evaluating on test data\n",
            "782/782 [==============================] - 57s 73ms/step - loss: 0.4434 - accuracy: 0.8306\n",
            "test loss, test acc: [0.4433799684047699, 0.8306000232696533]\n",
            "\n",
            "Generating predictions for 10 samples\n",
            "10/10 [==============================] - 1s 70ms/step\n",
            "predictions shape: (320, 1)\n"
          ]
        }
      ],
      "source": [
        "# Evaluate the model on the test data using `evaluate`\n",
        "print(\"\\nEvaluating on test data\")\n",
        "results = model4.evaluate(test_dataset)\n",
        "print(\"test loss, test acc:\", results)\n",
        "\n",
        "# Generate predictions (probabilities -- the output of the last layer)\n",
        "# on new data using `predict`\n",
        "print(\"\\nGenerating predictions for 10 samples\")\n",
        "predictions = model4.predict(test_dataset.take(10))\n",
        "print(\"predictions shape:\", predictions.shape)"
      ]
    },
    {
      "cell_type": "code",
      "execution_count": null,
      "metadata": {
        "id": "bMoicy5JfeKa",
        "colab": {
          "base_uri": "https://localhost:8080/"
        },
        "outputId": "da2d342c-1e97-4513-a841-65fcbf493537"
      },
      "outputs": [
        {
          "output_type": "stream",
          "name": "stdout",
          "text": [
            "Predicted sentiment for review 1: Negative\n",
            "Predicted sentiment for review 2: Positive\n",
            "Predicted sentiment for review 3: Negative\n",
            "Predicted sentiment for review 4: Negative\n",
            "Predicted sentiment for review 5: Positive\n",
            "Predicted sentiment for review 6: Positive\n",
            "Predicted sentiment for review 7: Positive\n",
            "Predicted sentiment for review 8: Positive\n",
            "Predicted sentiment for review 9: Positive\n",
            "Predicted sentiment for review 10: Positive\n"
          ]
        }
      ],
      "source": [
        "# Convert probabilities into class labels\n",
        "class_predictions = [1 if prob > 0.5 else 0 for prob in predictions]\n",
        "\n",
        "# Display the first 10 predictions\n",
        "for i, prediction in enumerate(class_predictions[:10]):\n",
        "    print(f\"Predicted sentiment for review {i+1}: {'Positive' if prediction else 'Negative'}\")\n"
      ]
    },
    {
      "cell_type": "markdown",
      "metadata": {
        "id": "FsPk1WFP7l2o"
      },
      "source": [
        "## **Part 5: Conclusions**\n",
        "\n",
        "\n",
        "***(Things to think about)*** Reflect on the tasks completed and the results obtained. Why did your models yield the results that they did? What worked as expected, what did not? and why?  What parameters had an impact? Why do you think that is the case? Does the metric used to evaluate the model matter (Accuracy/MAE)? So many other things that can be considered in your conclusions.\n",
        "\n",
        "If you had extra time available, what else would you do to gain further insights from this notebook?\n",
        "\n",
        "**Write your conclusions here.**"
      ]
    },
    {
      "cell_type": "markdown",
      "metadata": {
        "id": "e3VMgrWwh51C"
      },
      "source": [
        "In this notebook, we delved into a variety of tasks spanning from time-series forecasting using Recurrent Neural Networks (RNNs), to Natural Language Processing (NLP) with Long Short-Term Memory (LSTM) and Transformers.\n",
        "\n",
        "In the temperature forecasting task using RNNs, our models did perform slightly better than a naive \"tomorrow will be like today\" baseline model. The LSTM model improved the Mean Absolute Error (MAE) from 2.62 in the baseline to 2.59, showing that it was able to capture some temporal patterns. The further inclusion of Batch Normalization, dropout, the Adam optimizer, and L2 regularization improved our model, reducing the MAE to 2.40. This indicates that with hyperparameter tuning and regularization, we can create models that perform better than naive approaches in time-series prediction tasks. It was only a slight improvement which means there is still more we can do to improve upon this model.\n",
        "\n",
        "In the sentiment analysis task using LSTMs, our initial model achieved a test accuracy of 0.856. In comparison, our second model, which employed LSTM layers, yielded slightly worse performance with an accuracy of 0.851. This suggests that adding complexity does not always lead to better results. But on the flipside, with further adjustments and increased model complexity, we were able to achieve the best accuracy of 0.863. This indicates that sometimes making the model more complex can lead to improved performance.\n",
        "\n",
        "For the third part, we dove into the Transformer architecture, which has revolutionized the field of NLP with its self-attention mechanism. The advantage of Transformers is their ability to attend to different parts of the input sequence, irrespective of their position, which often results in superior results in many NLP tasks.\n",
        "\n",
        "In the last section, the sentiment analysis task using Transformers on the IMDB dataset, we experienced the power of the Transformer model firsthand. However, the model's complexity and the necessity for careful hyperparameter tuning became evident. I had a lot of trouble preparing my data correctly for the transformer. I was unable to create a transformer model (accuracy 0.830) that was better than our previous model (accuracy 0.863) but not by much and still think it can be improved a lot upon with more time and more computing resources. Specifically, I would add early stopping as accuracy was higher at earlier epochs.\n",
        "\n",
        "In terms of metrics, both accuracy (for classification tasks) and Mean Absolute Error (MAE) (for regression tasks like temperature forecasting) have proven to be crucial for evaluating the performance of our models. While accuracy gives a general measure of how often the model is correct, MAE provides a clear numeric indication of the average magnitude of error, which is  useful for predictions.\n",
        "\n",
        "If extra time were available, more improvements could be made by experimenting with more complex or different model architectures, performing more extensive hyperparameter tuning, or even leveraging pre-trained models via transfer learning."
      ]
    }
  ],
  "metadata": {
    "accelerator": "GPU",
    "colab": {
      "collapsed_sections": [
        "xIPjMfSSFQGg"
      ],
      "provenance": []
    },
    "kernelspec": {
      "display_name": "Python 3",
      "name": "python3"
    }
  },
  "nbformat": 4,
  "nbformat_minor": 0
}